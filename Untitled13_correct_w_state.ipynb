{
  "nbformat": 4,
  "nbformat_minor": 0,
  "metadata": {
    "colab": {
      "provenance": []
    },
    "kernelspec": {
      "name": "python3",
      "display_name": "Python 3"
    },
    "language_info": {
      "name": "python"
    }
  },
  "cells": [
    {
      "cell_type": "code",
      "execution_count": null,
      "metadata": {
        "colab": {
          "base_uri": "https://localhost:8080/"
        },
        "id": "UXcWlSUB5OoA",
        "outputId": "8407b91d-976b-46d1-ef35-cb96290edb04"
      },
      "outputs": [
        {
          "output_type": "stream",
          "name": "stdout",
          "text": [
            "Collecting qiskit\n",
            "  Downloading qiskit-1.1.1-cp38-abi3-manylinux_2_17_x86_64.manylinux2014_x86_64.whl.metadata (12 kB)\n",
            "Collecting rustworkx>=0.14.0 (from qiskit)\n",
            "  Downloading rustworkx-0.15.1-cp38-abi3-manylinux_2_17_x86_64.manylinux2014_x86_64.whl.metadata (9.9 kB)\n",
            "Requirement already satisfied: numpy<3,>=1.17 in /usr/local/lib/python3.10/dist-packages (from qiskit) (1.25.2)\n",
            "Requirement already satisfied: scipy>=1.5 in /usr/local/lib/python3.10/dist-packages (from qiskit) (1.13.1)\n",
            "Requirement already satisfied: sympy>=1.3 in /usr/local/lib/python3.10/dist-packages (from qiskit) (1.13.1)\n",
            "Collecting dill>=0.3 (from qiskit)\n",
            "  Downloading dill-0.3.8-py3-none-any.whl.metadata (10 kB)\n",
            "Requirement already satisfied: python-dateutil>=2.8.0 in /usr/local/lib/python3.10/dist-packages (from qiskit) (2.8.2)\n",
            "Collecting stevedore>=3.0.0 (from qiskit)\n",
            "  Downloading stevedore-5.2.0-py3-none-any.whl.metadata (2.3 kB)\n",
            "Requirement already satisfied: typing-extensions in /usr/local/lib/python3.10/dist-packages (from qiskit) (4.12.2)\n",
            "Collecting symengine>=0.11 (from qiskit)\n",
            "  Downloading symengine-0.11.0-cp310-cp310-manylinux_2_12_x86_64.manylinux2010_x86_64.whl.metadata (1.2 kB)\n",
            "Requirement already satisfied: six>=1.5 in /usr/local/lib/python3.10/dist-packages (from python-dateutil>=2.8.0->qiskit) (1.16.0)\n",
            "Collecting pbr!=2.1.0,>=2.0.0 (from stevedore>=3.0.0->qiskit)\n",
            "  Downloading pbr-6.0.0-py2.py3-none-any.whl.metadata (1.3 kB)\n",
            "Requirement already satisfied: mpmath<1.4,>=1.1.0 in /usr/local/lib/python3.10/dist-packages (from sympy>=1.3->qiskit) (1.3.0)\n",
            "Downloading qiskit-1.1.1-cp38-abi3-manylinux_2_17_x86_64.manylinux2014_x86_64.whl (4.3 MB)\n",
            "\u001b[2K   \u001b[90m━━━━━━━━━━━━━━━━━━━━━━━━━━━━━━━━━━━━━━━━\u001b[0m \u001b[32m4.3/4.3 MB\u001b[0m \u001b[31m26.2 MB/s\u001b[0m eta \u001b[36m0:00:00\u001b[0m\n",
            "\u001b[?25hDownloading dill-0.3.8-py3-none-any.whl (116 kB)\n",
            "\u001b[2K   \u001b[90m━━━━━━━━━━━━━━━━━━━━━━━━━━━━━━━━━━━━━━━━\u001b[0m \u001b[32m116.3/116.3 kB\u001b[0m \u001b[31m6.1 MB/s\u001b[0m eta \u001b[36m0:00:00\u001b[0m\n",
            "\u001b[?25hDownloading rustworkx-0.15.1-cp38-abi3-manylinux_2_17_x86_64.manylinux2014_x86_64.whl (2.0 MB)\n",
            "\u001b[2K   \u001b[90m━━━━━━━━━━━━━━━━━━━━━━━━━━━━━━━━━━━━━━━━\u001b[0m \u001b[32m2.0/2.0 MB\u001b[0m \u001b[31m24.1 MB/s\u001b[0m eta \u001b[36m0:00:00\u001b[0m\n",
            "\u001b[?25hDownloading stevedore-5.2.0-py3-none-any.whl (49 kB)\n",
            "\u001b[2K   \u001b[90m━━━━━━━━━━━━━━━━━━━━━━━━━━━━━━━━━━━━━━━━\u001b[0m \u001b[32m49.7/49.7 kB\u001b[0m \u001b[31m1.9 MB/s\u001b[0m eta \u001b[36m0:00:00\u001b[0m\n",
            "\u001b[?25hDownloading symengine-0.11.0-cp310-cp310-manylinux_2_12_x86_64.manylinux2010_x86_64.whl (39.4 MB)\n",
            "\u001b[2K   \u001b[90m━━━━━━━━━━━━━━━━━━━━━━━━━━━━━━━━━━━━━━━━\u001b[0m \u001b[32m39.4/39.4 MB\u001b[0m \u001b[31m9.5 MB/s\u001b[0m eta \u001b[36m0:00:00\u001b[0m\n",
            "\u001b[?25hDownloading pbr-6.0.0-py2.py3-none-any.whl (107 kB)\n",
            "\u001b[2K   \u001b[90m━━━━━━━━━━━━━━━━━━━━━━━━━━━━━━━━━━━━━━━━\u001b[0m \u001b[32m107.5/107.5 kB\u001b[0m \u001b[31m5.7 MB/s\u001b[0m eta \u001b[36m0:00:00\u001b[0m\n",
            "\u001b[?25hInstalling collected packages: symengine, rustworkx, pbr, dill, stevedore, qiskit\n",
            "Successfully installed dill-0.3.8 pbr-6.0.0 qiskit-1.1.1 rustworkx-0.15.1 stevedore-5.2.0 symengine-0.11.0\n",
            "Collecting pylatexenc\n",
            "  Downloading pylatexenc-2.10.tar.gz (162 kB)\n",
            "\u001b[2K     \u001b[90m━━━━━━━━━━━━━━━━━━━━━━━━━━━━━━━━━━━━━━━━\u001b[0m \u001b[32m162.6/162.6 kB\u001b[0m \u001b[31m3.9 MB/s\u001b[0m eta \u001b[36m0:00:00\u001b[0m\n",
            "\u001b[?25h  Preparing metadata (setup.py) ... \u001b[?25l\u001b[?25hdone\n",
            "Building wheels for collected packages: pylatexenc\n",
            "  Building wheel for pylatexenc (setup.py) ... \u001b[?25l\u001b[?25hdone\n",
            "  Created wheel for pylatexenc: filename=pylatexenc-2.10-py3-none-any.whl size=136817 sha256=e9b20a5e8626fad362e7bc3170d4ec15d09f0b432dc83cb4539ff7cc0631dc0c\n",
            "  Stored in directory: /root/.cache/pip/wheels/d3/31/8b/e09b0386afd80cfc556c00408c9aeea5c35c4d484a9c762fd5\n",
            "Successfully built pylatexenc\n",
            "Installing collected packages: pylatexenc\n",
            "Successfully installed pylatexenc-2.10\n"
          ]
        }
      ],
      "source": [
        "#install and importing library\n",
        "\n",
        "!pip install qiskit\n",
        "!pip install pylatexenc\n",
        "#!pip install --upgrade qiskit\n",
        "#!pip install qiskit-aer\n",
        "#!pip install qiskit-ibmq-provider\n",
        "\n",
        "\n",
        "\n",
        "#from qiskit import IBMQ , Aer, execute\n",
        "#from qiskit.circuit import QuantumCircuit, Parameter\n",
        "from qiskit import QuantumCircuit, transpile\n",
        "from qiskit.providers.basic_provider import BasicProvider\n",
        "\n",
        "\n",
        "\n",
        "from qiskit import *\n",
        "from qiskit.circuit import (\n",
        "    AnnotatedOperation,\n",
        "    ControlModifier,\n",
        "    PowerModifier,\n",
        "    InverseModifier,\n",
        "    QuantumCircuit\n",
        ")\n",
        "from qiskit.circuit.library import SGate\n",
        "from qiskit.circuit import Parameter\n",
        "\n"
      ]
    },
    {
      "cell_type": "code",
      "source": [
        "from qiskit.providers.fake_provider import GenericBackendV2\n",
        "from qiskit.visualization import plot_histogram\n",
        "backend = GenericBackendV2(num_qubits=3)\n",
        "\n"
      ],
      "metadata": {
        "id": "BxWVeRlSuE9e"
      },
      "execution_count": null,
      "outputs": []
    },
    {
      "cell_type": "markdown",
      "source": [
        "#Creating W state ( in e91 we called this part creating a singlet )"
      ],
      "metadata": {
        "id": "y_nNuqd-79FA"
      }
    },
    {
      "cell_type": "code",
      "source": [
        "#we need registers with three quantum bits and six classical bits\n",
        "\n",
        "# Creating registers\n",
        "qr = QuantumRegister(3, name=\"qr\")\n",
        "cr = ClassicalRegister(3, name=\"cr\")"
      ],
      "metadata": {
        "id": "uGHzvExU8BEH"
      },
      "execution_count": null,
      "outputs": []
    },
    {
      "cell_type": "code",
      "source": [
        "import numpy as np\n",
        "\n",
        "\n",
        "# Here, two useful routine\n",
        "#Define a F_gate\n",
        "def F_gate(circ,q,i,j,n,k) :\n",
        "    theta = np.arccos(np.sqrt(1/(n-k+1)))\n",
        "    circ.ry(-theta,q[j])\n",
        "    circ.cz(q[i],q[j])\n",
        "    circ.ry(theta,q[j])\n",
        "    circ.barrier(q[i])\n",
        "# Define the cxrv gate which uses reverse CNOT instead of CNOT\n",
        "def  cxrv(circ,q,i,j) :\n",
        "    circ.h(q[i])\n",
        "    circ.h(q[j])\n",
        "    circ.cx(q[j],q[i])\n",
        "    circ.h(q[i])\n",
        "    circ.h(q[j])\n",
        "    circ.barrier(q[i],q[j])\n",
        "\n",
        "\n",
        "\n"
      ],
      "metadata": {
        "id": "pcuPC3FH8NoF"
      },
      "execution_count": null,
      "outputs": []
    },
    {
      "cell_type": "code",
      "source": [
        "# Define the flag_qx2 variable\n",
        "flag_qx2 = True  # Set it to True or False based on your requirements\n",
        "\n",
        "singlet = QuantumCircuit(qr, cr)\n",
        "\n",
        "singlet.x(qr[2])  # start is |100>\n",
        "F_gate(singlet, qr, 2, 1, 3, 1)  # Applying F12\n",
        "F_gate(singlet, qr, 1, 0, 3, 2)  # Applying F23\n",
        "\n",
        "if flag_qx2:  # option ibmqx2\n",
        "    singlet.cx(qr[1], qr[2])  # cNOT 21\n",
        "    singlet.cx(qr[0], qr[1])  # cNOT 32\n",
        "else:  # option ibmqx4\n",
        "    cxrv(singlet, qr, 1, 2)\n",
        "    cxrv(singlet, qr, 0, 1)\n",
        "\n",
        "#for i in range(3):\n",
        "    #singlet.h(qr[i])  # Apply Hadamard gate for X basis\n",
        "    #singlet.measure(qr[i], cr[i])\n",
        "\n",
        "    #y basis meausrement\n",
        "    #theta = np.pi / 2  # Example angle for a 90-degree rotation\n",
        "    #singlet.ry(theta, qr[i])\n",
        "\n",
        "\n",
        "    # Apply a Z-rotation gate to fine-tune the state (optional)\n",
        "    #phi = np.pi / 4  # Example angle for a 45-degree rotation\n",
        "    #singlet.rz(phi, qr[i])\n",
        " #   singlet.measure(qr[i], cr[i])\n",
        "\n",
        "\n",
        "# Draw circuit\n",
        "singlet.draw(output='mpl', initial_state=True)\n",
        "\n",
        "#backend = BasicAer.get_backend('qasm_simulator')\n",
        "#results = execute(singlet, backend=backend, shots=512).result()\n",
        "\n",
        "# Assuming 'singlet' is your QuantumCircuit\n",
        "#backend = Aer.get_backend('qasm_simulator')\n",
        "#results = execute(singlet, backend=backend, shots=512).result()\n",
        "\n",
        "#from qiskit.providers.fake_provider import GenericBackendV2\n",
        "\n",
        "\n",
        "#backend = GenericBackendV2(num_qubits=3)\n",
        "\n",
        "\n",
        "# Transpile the ideal circuit to a circuit that can be directly executed by the backend\n",
        "transpiled_circuit = transpile(singlet, backend)\n",
        "transpiled_circuit.draw('mpl')\n",
        "\n",
        "# Run the transpiled circuit using the simulated backend\n",
        "#job = backend.run(transpiled_circuit,shots = 512)\n",
        "#counts = job.result().get_counts(transpiled_circuit)\n",
        "\n",
        "#backend = BasicProvider().get_backend('basic_simulator')\n",
        "#results = execute(singlet, backend=backend, shots=512).result()\n",
        "\n",
        "\n",
        "#counts = results.get_counts(singlet)\n",
        "\n",
        "#plot_histogram(counts)\n",
        "\n"
      ],
      "metadata": {
        "colab": {
          "base_uri": "https://localhost:8080/",
          "height": 331
        },
        "id": "Quc-PaCj-4W1",
        "outputId": "7233bd86-f011-4261-d6e6-060878fadffe"
      },
      "execution_count": null,
      "outputs": [
        {
          "output_type": "execute_result",
          "data": {
            "text/plain": [
              "<Figure size 1188.31x367.889 with 1 Axes>"
            ],
            "image/png": "[encoded data removed]"
          },
          "metadata": {},
          "execution_count": 5
        }
      ]
    },
    {
      "cell_type": "markdown",
      "source": [
        "#Error Correction"
      ],
      "metadata": {
        "id": "pXYykxuRnfwY"
      }
    },
    {
      "cell_type": "code",
      "source": [
        "# Apply X gate to the target qubit (qubit 2) only if the state is |000>, |011>, |110>, or |101>\n",
        "singlet.x(0)\n",
        "singlet.x(1)\n",
        "singlet.x(2)\n",
        "singlet.ccx(0, 1, 2)  # Apply multi-controlled X gate (Toffoli gate) to flip qubit 2 if both qubits 0 and 1 are in state |1>\n",
        "singlet.x(0)\n",
        "singlet.x(1)\n",
        "\n",
        "# Reset qubits to prepare for the next state\n",
        "singlet.reset([0, 1, 2])\n",
        "\n",
        "# Apply X gate to the target qubit (qubit 2) only if the state is |011>\n",
        "singlet.x(0)\n",
        "singlet.ccx(0, 1, 2)  # Apply multi-controlled X gate (Toffoli gate) to flip qubit 2 if both qubits 0 and 1 are in state |1>\n",
        "singlet.x(0)\n",
        "\n",
        "# Reset qubits to prepare for the next state\n",
        "singlet.reset([0, 1, 2])\n",
        "\n",
        "# Apply X gate to the target qubit (qubit 2) only if the state is |110>\n",
        "singlet.x(1)\n",
        "singlet.ccx(0, 1, 2)  # Apply multi-controlled X gate (Toffoli gate) to flip qubit 2 if both qubits 0 and 1 are in state |1>\n",
        "singlet.x(1)\n",
        "\n",
        "# Reset qubits to prepare for the next state\n",
        "singlet.reset([0, 1, 2])\n",
        "\n",
        "# Apply X gate to the target qubit (qubit 2) only if the state is |101>\n",
        "singlet.x(0)\n",
        "singlet.x(1)\n",
        "singlet.ccx(0, 1, 2)  # Apply multi-controlled X gate (Toffoli gate) to flip qubit 2 if both qubits 0 and 1 are in state |1>\n",
        "singlet.x(0)\n",
        "singlet.x(1)\n",
        "\n",
        "# Draw circuit\n",
        "singlet.draw(output='mpl', initial_state=True)"
      ],
      "metadata": {
        "colab": {
          "base_uri": "https://localhost:8080/",
          "height": 569
        },
        "id": "NCWU20Qsne5Y",
        "outputId": "94d76642-bc4c-4ccd-aac2-f673c98c39d8"
      },
      "execution_count": null,
      "outputs": [
        {
          "output_type": "stream",
          "name": "stderr",
          "text": [
            "/usr/local/lib/python3.10/dist-packages/qiskit/visualization/circuit/matplotlib.py:266: FutureWarning: The default matplotlib drawer scheme will be changed to \"iqp\" in a following release. To silence this warning, specify the current default explicitly as style=\"clifford\", or the new default as style=\"iqp\".\n",
            "  self._style, def_font_ratio = load_style(self._style)\n"
          ]
        },
        {
          "output_type": "execute_result",
          "data": {
            "text/plain": [
              "<Figure size 2283.46x785.944 with 1 Axes>"
            ],
            "image/png": "[encoded data removed]"
          },
          "metadata": {},
          "execution_count": 83
        }
      ]
    },
    {
      "cell_type": "markdown",
      "source": [
        "#Real Quantum Computer"
      ],
      "metadata": {
        "id": "l82Od3ll6PoT"
      }
    },
    {
      "cell_type": "markdown",
      "source": [
        "#Alice Measurement"
      ],
      "metadata": {
        "id": "bAJVF5PjB6L3"
      }
    },
    {
      "cell_type": "code",
      "source": [
        "# measure the spin projection of Alice's qubit onto the a_3 direction (standard Z basis)\n",
        "\n",
        "#create circuit\n",
        "measureA1 = QuantumCircuit(qr, cr, name='measureA1')\n",
        "#measureEA1 = QuantumCircuit(qr, cr, name ='measureEA1')\n",
        "#apply hadamard\n",
        "#measureEA1.h(qr[0])\n",
        "\n",
        "#apply measurement\n",
        "measureA1.measure(qr[0],cr[0])\n",
        "#measureEA1.measure(qr[0],cr[3])\n",
        "\n",
        "#draw circuit\n",
        "measureA1.draw(output = 'mpl' , initial_state = True)\n",
        "#measureEA1.draw(output = 'mpl' , initial_state = True)\n",
        "\n"
      ],
      "metadata": {
        "colab": {
          "base_uri": "https://localhost:8080/",
          "height": 320
        },
        "id": "hh8ARHJyB8j0",
        "outputId": "3889eaa6-484f-47b8-bb53-321f21c5b61e"
      },
      "execution_count": null,
      "outputs": [
        {
          "output_type": "execute_result",
          "data": {
            "text/plain": [
              "<Figure size 268.586x367.889 with 1 Axes>"
            ],
            "image/png": "[encoded data removed]"
          },
          "metadata": {},
          "execution_count": 6
        }
      ]
    },
    {
      "cell_type": "code",
      "source": [
        "# measure the spin projection of Alice's qubit onto the a_1 direction (X basis)\n",
        "#create a circuit\n",
        "measureA2 = QuantumCircuit(qr, cr, name='measureA2')\n",
        "#measureEA2 = QuantumCircuit(qr, cr, name = 'measureEA2')\n",
        "\n",
        "#apply hadamard\n",
        "measureA2.h(qr[0])\n",
        "\n",
        "#apply measurement\n",
        "measureA2.measure(qr[0],cr[0])\n",
        "#measureEA2.measure(qr[0],cr[3])\n",
        "\n",
        "#draw circuit\n",
        "measureA2.draw(output = 'mpl' , initial_state = True)\n",
        "#measureEA2.draw(output = 'mpl' , initial_state = True)\n"
      ],
      "metadata": {
        "colab": {
          "base_uri": "https://localhost:8080/",
          "height": 320
        },
        "id": "jWQen9BUCGK9",
        "outputId": "583ce643-5384-4b2c-c9b0-27f345a339f7"
      },
      "execution_count": null,
      "outputs": [
        {
          "output_type": "execute_result",
          "data": {
            "text/plain": [
              "<Figure size 352.198x367.889 with 1 Axes>"
            ],
            "image/png": "[encoded data removed]"
          },
          "metadata": {},
          "execution_count": 7
        }
      ]
    },
    {
      "cell_type": "markdown",
      "source": [
        "#Bob's Measurement"
      ],
      "metadata": {
        "id": "UN7oc7GKCJbP"
      }
    },
    {
      "cell_type": "code",
      "source": [
        "# measure the spin projection of Bob's qubit onto the b_2 direction (standard Z basis)\n",
        "\n",
        "#build circuit\n",
        "measureB1 = QuantumCircuit(qr, cr, name='measureB1')\n",
        "#measureEB1 = QuantumCircuit(qr, cr, name='measureEB1')\n",
        "\n",
        "#apply hadamard\n",
        "measureB1.h(qr[1])\n",
        "\n",
        "#apply measurement\n",
        "measureB1.measure(qr[1],cr[1])\n",
        "#measureEB1.measure(qr[1],cr[3])\n",
        "\n",
        "\n",
        "\n",
        "#draw circuit\n",
        "measureB1.draw(output = 'mpl' , initial_state = True)\n",
        "#measureEB1.draw(output = 'mpl' , initial_state = True)"
      ],
      "metadata": {
        "colab": {
          "base_uri": "https://localhost:8080/",
          "height": 320
        },
        "id": "GdTP8YskCQOA",
        "outputId": "72eb1dae-3783-4e5e-d310-2e5c9a7f8ea8"
      },
      "execution_count": null,
      "outputs": [
        {
          "output_type": "execute_result",
          "data": {
            "text/plain": [
              "<Figure size 352.198x367.889 with 1 Axes>"
            ],
            "image/png": "[encoded data removed]"
          },
          "metadata": {},
          "execution_count": 8
        }
      ]
    },
    {
      "cell_type": "code",
      "source": [
        "# measure the spin projection of Bob's qubit onto the a_1 direction (X basis)\n",
        "#create a circuit\n",
        "measureB2 = QuantumCircuit(qr, cr, name='measureB2')\n",
        "#measureEB2 = QuantumCircuit(qr, cr, name='measureEB2')\n",
        "\n",
        "#apply hadamard\n",
        "#measureEB2.h(qr[1])\n",
        "\n",
        "#apply measurement\n",
        "measureB2.measure(qr[1],cr[1])\n",
        "#measureEB2.measure(qr[1],cr[4])\n",
        "\n",
        "#draw circuit\n",
        "measureB2.draw(output = 'mpl' , initial_state = True)"
      ],
      "metadata": {
        "colab": {
          "base_uri": "https://localhost:8080/",
          "height": 320
        },
        "id": "jZq0nM9aCTVr",
        "outputId": "df994133-ac38-4fe8-96ab-835e0e88b5bc"
      },
      "execution_count": null,
      "outputs": [
        {
          "output_type": "execute_result",
          "data": {
            "text/plain": [
              "<Figure size 268.586x367.889 with 1 Axes>"
            ],
            "image/png": "[encoded data removed]"
          },
          "metadata": {},
          "execution_count": 9
        }
      ]
    },
    {
      "cell_type": "markdown",
      "source": [
        "#Charlie's measurement"
      ],
      "metadata": {
        "id": "6TLUQde0CdCs"
      }
    },
    {
      "cell_type": "code",
      "source": [
        "# measure the spin projection of Bob's qubit onto the b_2 direction (standard Z basis)\n",
        "\n",
        "#build circuit\n",
        "measureC1 = QuantumCircuit(qr, cr, name='measureC1')\n",
        "#measureEC1 = QuantumCircuit(qr, cr, name='measureEC1')\n",
        "\n",
        "\n",
        "\n",
        "#apply hadamard\n",
        "#measureEC1.h(qr[2])\n",
        "\n",
        "#apply measurement\n",
        "measureC1.measure(qr[2],cr[2])\n",
        "#measureEC1.measure(qr[2],cr[4])\n",
        "\n",
        "\n",
        "\n",
        "#draw circuit\n",
        "measureC1.draw(output = 'mpl' , initial_state = True)\n",
        "#measureEC1.draw(output = 'mpl' , initial_state = True)"
      ],
      "metadata": {
        "colab": {
          "base_uri": "https://localhost:8080/",
          "height": 320
        },
        "id": "6u7VAfRTCifw",
        "outputId": "7f68aa2e-ad12-44bf-f2ce-580b5a3a2071"
      },
      "execution_count": null,
      "outputs": [
        {
          "output_type": "execute_result",
          "data": {
            "text/plain": [
              "<Figure size 268.586x367.889 with 1 Axes>"
            ],
            "image/png": "[encoded data removed]"
          },
          "metadata": {},
          "execution_count": 10
        }
      ]
    },
    {
      "cell_type": "code",
      "source": [
        "# measure the spin projection of Bob's qubit onto the a_1 direction (X basis)\n",
        "#create a circuit\n",
        "measureC2 = QuantumCircuit(qr, cr, name='measureC2')\n",
        "#measureEC2 = QuantumCircuit(qr, cr, name='measureEC2')\n",
        "\n",
        "#apply hadamard\n",
        "measureC2.h(qr[2])\n",
        "\n",
        "#apply measurement\n",
        "measureC2.measure(qr[2],cr[2])\n",
        "#measureEC2.measure(qr[2],cr[5])\n",
        "\n",
        "#draw circuit\n",
        "measureC2.draw(output = 'mpl' , initial_state = True)\n",
        "#measureEC2.draw(output = 'mpl' , initial_state = True)"
      ],
      "metadata": {
        "colab": {
          "base_uri": "https://localhost:8080/",
          "height": 320
        },
        "id": "cgFU9LsMCcGM",
        "outputId": "1a79f21f-3d32-4550-c83a-5cee78dd09b0"
      },
      "execution_count": null,
      "outputs": [
        {
          "output_type": "execute_result",
          "data": {
            "text/plain": [
              "<Figure size 352.198x367.889 with 1 Axes>"
            ],
            "image/png": "[encoded data removed]"
          },
          "metadata": {},
          "execution_count": 11
        }
      ]
    },
    {
      "cell_type": "code",
      "source": [
        "# Lists of measurement circuits\n",
        "aliceMeasurements = [measureA1, measureA2]\n",
        "bobMeasurements = [measureB1, measureB2]\n",
        "charlieMeasurements = [measureC1, measureC2]\n",
        "#eveMeasurement = [measureEA1, measureEA2, measureEB1, measureEB2, measureEC1 , measureEC2]"
      ],
      "metadata": {
        "id": "t7OKN9__CxIY"
      },
      "execution_count": null,
      "outputs": []
    },
    {
      "cell_type": "code",
      "source": [
        "import random\n",
        "\n",
        "# Define the number of singlets N\n",
        "number_Of_w_states = 500"
      ],
      "metadata": {
        "id": "YUav5-eCC0D5"
      },
      "execution_count": null,
      "outputs": []
    },
    {
      "cell_type": "code",
      "source": [
        "aliceMeasurementChoices = [random.randint(1, 2) for i in range(number_Of_w_states)] # string b of Alice\n",
        "bobMeasurementChoices = [random.randint(1, 2) for i in range(number_Of_w_states)] # string b' of Bob\n",
        "charlieMeasurementChoices = [random.randint(1, 2) for i in range(number_Of_w_states)] #for charliei\n",
        "#eveMeasurementChoices = [random.randint(1, 6) for i in range(number_Of_w_states)]"
      ],
      "metadata": {
        "id": "hWvkDQ5EC3rI"
      },
      "execution_count": null,
      "outputs": []
    },
    {
      "cell_type": "code",
      "source": [
        "print(\"Alice's measurement choices:\", aliceMeasurementChoices)\n",
        "print(\"Bob's measurement choices:\", bobMeasurementChoices)\n",
        "print(\"Charlie's measurement choices:\", charlieMeasurementChoices)\n",
        "#print(\"EVE's measurement choices:\", eveMeasurementChoices)"
      ],
      "metadata": {
        "colab": {
          "base_uri": "https://localhost:8080/"
        },
        "id": "GLAmfm_RC7JB",
        "outputId": "d08fefd6-9306-488a-efc7-6be415fdf5c5"
      },
      "execution_count": null,
      "outputs": [
        {
          "output_type": "stream",
          "name": "stdout",
          "text": [
            "Alice's measurement choices: [2, 2, 2, 2, 2, 1, 2, 2, 2, 2, 2, 1, 2, 1, 1, 1, 2, 1, 2, 1, 2, 2, 2, 1, 1, 1, 1, 1, 1, 2, 1, 2, 1, 2, 2, 2, 1, 1, 1, 1, 1, 2, 1, 2, 1, 2, 2, 1, 1, 1, 2, 1, 1, 1, 1, 1, 1, 1, 2, 2, 2, 2, 2, 2, 2, 2, 2, 1, 2, 2, 1, 2, 1, 2, 1, 1, 1, 1, 2, 2, 2, 2, 2, 1, 2, 2, 1, 1, 1, 2, 2, 1, 1, 2, 1, 2, 2, 1, 2, 2, 1, 2, 1, 1, 2, 1, 1, 2, 1, 1, 1, 2, 1, 1, 1, 2, 1, 1, 2, 1, 2, 1, 2, 2, 1, 1, 2, 1, 1, 1, 2, 1, 2, 1, 2, 1, 2, 2, 1, 2, 2, 2, 1, 1, 1, 2, 1, 1, 1, 2, 1, 2, 1, 2, 1, 1, 2, 1, 1, 1, 1, 1, 2, 2, 2, 2, 1, 2, 1, 2, 1, 2, 1, 2, 1, 2, 1, 1, 2, 2, 1, 1, 1, 1, 2, 2, 1, 1, 2, 1, 1, 1, 1, 1, 2, 1, 1, 1, 2, 2, 1, 2, 2, 2, 1, 1, 1, 1, 1, 2, 1, 1, 2, 2, 1, 1, 2, 2, 1, 1, 1, 2, 2, 2, 1, 1, 1, 2, 2, 2, 1, 1, 2, 2, 2, 2, 2, 2, 2, 1, 1, 2, 2, 1, 2, 1, 1, 1, 2, 1, 2, 1, 2, 2, 2, 2, 2, 2, 2, 1, 2, 2, 1, 2, 1, 2, 2, 1, 1, 2, 2, 2, 1, 2, 2, 1, 2, 1, 1, 1, 2, 2, 1, 1, 1, 1, 1, 2, 1, 2, 1, 1, 1, 2, 1, 1, 2, 1, 2, 2, 2, 2, 2, 1, 2, 1, 1, 2, 2, 2, 1, 1, 1, 1, 2, 1, 1, 2, 2, 2, 1, 1, 1, 2, 1, 2, 2, 1, 1, 2, 1, 1, 2, 2, 1, 1, 1, 1, 2, 2, 1, 1, 1, 2, 2, 1, 2, 1, 2, 2, 2, 1, 1, 1, 2, 2, 1, 2, 2, 1, 1, 1, 2, 2, 2, 2, 2, 2, 2, 1, 2, 2, 1, 1, 1, 2, 1, 1, 1, 2, 1, 1, 2, 2, 1, 2, 1, 1, 2, 1, 2, 2, 2, 1, 1, 1, 1, 1, 1, 1, 2, 1, 1, 2, 2, 1, 2, 1, 2, 2, 2, 2, 1, 1, 1, 1, 2, 2, 2, 2, 2, 1, 2, 1, 1, 1, 2, 1, 1, 1, 1, 1, 1, 1, 2, 1, 1, 1, 1, 1, 1, 1, 1, 2, 1, 2, 1, 1, 2, 1, 2, 1, 2, 2, 1, 1, 2, 2, 1, 2, 1, 2, 2, 1, 2, 2, 1, 1, 2, 2, 2, 1, 1, 2, 2, 1, 2, 2, 2, 1, 1, 2, 1, 2, 1, 2, 1, 2, 1, 2, 1, 2, 2, 1, 1, 1, 2, 2, 1, 2]\n",
            "Bob's measurement choices: [2, 1, 2, 1, 2, 1, 1, 1, 1, 1, 1, 2, 2, 1, 2, 1, 2, 2, 2, 1, 1, 2, 1, 1, 1, 1, 2, 1, 2, 1, 2, 1, 2, 2, 1, 1, 2, 2, 2, 2, 1, 1, 2, 2, 1, 2, 1, 2, 1, 2, 1, 1, 2, 2, 1, 2, 1, 2, 2, 2, 1, 1, 1, 1, 2, 2, 1, 1, 1, 1, 1, 2, 1, 1, 1, 1, 1, 1, 1, 1, 1, 2, 1, 2, 1, 1, 2, 2, 2, 1, 1, 2, 2, 1, 1, 1, 2, 2, 1, 2, 2, 2, 1, 2, 1, 2, 1, 1, 1, 2, 2, 2, 2, 1, 2, 1, 1, 1, 2, 1, 2, 2, 2, 2, 2, 2, 1, 2, 1, 2, 1, 2, 2, 2, 1, 1, 2, 2, 2, 2, 2, 2, 2, 2, 2, 1, 2, 2, 1, 1, 2, 1, 2, 1, 2, 2, 1, 1, 1, 2, 2, 1, 2, 1, 1, 2, 2, 2, 1, 1, 2, 1, 1, 1, 2, 1, 2, 1, 2, 2, 2, 2, 1, 1, 1, 2, 1, 1, 1, 1, 1, 1, 2, 2, 2, 2, 2, 1, 2, 1, 1, 2, 2, 2, 1, 2, 1, 2, 1, 2, 1, 1, 2, 2, 1, 2, 2, 2, 2, 1, 2, 2, 1, 1, 1, 1, 1, 2, 2, 1, 2, 2, 2, 1, 1, 2, 1, 1, 2, 2, 1, 2, 1, 1, 2, 2, 1, 2, 2, 1, 2, 2, 1, 1, 2, 2, 1, 1, 1, 2, 2, 1, 1, 1, 1, 2, 2, 2, 2, 1, 1, 1, 1, 1, 2, 1, 2, 1, 2, 1, 2, 1, 2, 2, 2, 1, 1, 1, 1, 2, 1, 1, 2, 1, 2, 1, 1, 1, 1, 1, 1, 1, 2, 2, 2, 2, 2, 1, 1, 2, 2, 1, 1, 2, 2, 1, 1, 1, 2, 1, 1, 2, 2, 1, 1, 1, 1, 1, 2, 2, 1, 2, 1, 1, 2, 1, 1, 1, 1, 2, 2, 1, 2, 2, 2, 1, 1, 2, 1, 1, 2, 2, 1, 2, 2, 1, 1, 1, 1, 2, 2, 2, 1, 2, 1, 2, 1, 1, 1, 2, 2, 2, 2, 1, 2, 1, 1, 1, 2, 1, 2, 2, 2, 1, 1, 1, 1, 1, 1, 2, 1, 1, 1, 1, 2, 1, 1, 2, 2, 1, 1, 2, 2, 1, 2, 2, 2, 1, 1, 2, 2, 2, 1, 1, 2, 1, 2, 1, 2, 2, 2, 1, 1, 2, 2, 1, 1, 1, 2, 2, 1, 1, 1, 2, 1, 2, 2, 2, 1, 2, 1, 1, 1, 1, 2, 1, 1, 1, 2, 1, 1, 1, 2, 1, 1, 2, 1, 1, 2, 2, 2, 1, 1, 1, 2, 1, 1, 1, 2, 2, 2, 1, 2, 2, 2, 1, 2, 2, 1, 1, 2, 2, 1, 1, 1, 1, 1, 1, 2, 2, 2, 2, 2, 1, 2, 1, 1, 2, 1, 1]\n",
            "Charlie's measurement choices: [2, 2, 2, 2, 2, 2, 1, 2, 1, 2, 1, 1, 1, 1, 2, 1, 1, 1, 1, 1, 1, 2, 2, 1, 1, 2, 2, 2, 1, 1, 1, 2, 1, 1, 2, 1, 2, 2, 1, 2, 2, 1, 2, 2, 2, 1, 2, 2, 2, 2, 1, 1, 1, 2, 1, 2, 1, 2, 1, 2, 2, 1, 2, 1, 1, 1, 1, 1, 2, 2, 1, 1, 1, 1, 2, 2, 2, 1, 1, 1, 1, 1, 1, 2, 2, 2, 2, 1, 1, 2, 1, 2, 2, 1, 2, 2, 2, 2, 2, 2, 2, 2, 1, 1, 1, 2, 1, 2, 2, 1, 1, 1, 2, 1, 2, 1, 1, 2, 1, 1, 2, 2, 1, 2, 1, 1, 2, 2, 2, 1, 2, 1, 1, 1, 1, 2, 2, 1, 2, 1, 2, 2, 1, 2, 1, 1, 2, 2, 2, 2, 2, 2, 2, 2, 1, 1, 2, 1, 2, 1, 1, 2, 1, 2, 1, 2, 1, 1, 1, 2, 1, 1, 1, 2, 1, 2, 1, 2, 1, 2, 2, 1, 1, 1, 1, 1, 2, 1, 2, 1, 1, 1, 1, 1, 2, 1, 1, 2, 1, 1, 2, 1, 1, 2, 1, 1, 2, 2, 2, 1, 2, 2, 2, 2, 2, 1, 1, 1, 2, 2, 1, 1, 1, 2, 2, 1, 1, 1, 1, 1, 1, 2, 1, 1, 2, 1, 2, 1, 1, 1, 2, 2, 2, 2, 1, 2, 1, 1, 1, 2, 2, 2, 2, 1, 2, 1, 1, 2, 1, 2, 2, 2, 1, 1, 2, 1, 1, 1, 2, 1, 2, 1, 1, 2, 1, 1, 2, 1, 2, 2, 2, 2, 1, 2, 2, 1, 2, 2, 2, 1, 2, 2, 1, 2, 1, 2, 1, 1, 2, 2, 1, 1, 2, 1, 2, 1, 2, 1, 1, 2, 1, 2, 1, 2, 2, 2, 2, 2, 1, 1, 1, 2, 1, 1, 2, 1, 2, 2, 1, 2, 1, 1, 1, 2, 2, 1, 2, 2, 1, 2, 2, 1, 1, 1, 2, 1, 1, 2, 2, 1, 1, 2, 1, 2, 1, 2, 1, 2, 2, 2, 2, 2, 1, 1, 2, 1, 2, 2, 2, 1, 2, 1, 2, 1, 1, 1, 2, 2, 2, 2, 1, 1, 1, 1, 1, 1, 1, 1, 2, 1, 2, 1, 1, 2, 2, 2, 1, 2, 1, 1, 1, 2, 2, 2, 2, 2, 1, 2, 2, 2, 1, 2, 2, 2, 1, 2, 2, 2, 1, 2, 2, 2, 1, 1, 2, 2, 1, 1, 2, 1, 1, 1, 2, 1, 1, 2, 1, 1, 1, 2, 2, 2, 2, 1, 2, 1, 1, 1, 2, 2, 2, 2, 2, 1, 2, 1, 2, 1, 2, 2, 1, 1, 1, 2, 1, 2, 2, 2, 1, 1, 1, 1, 1, 2, 1, 1, 2, 1, 2, 2, 2, 2, 2, 2, 1, 2, 1, 1, 1, 1, 1, 2, 2, 2, 1, 1, 1, 1, 2, 1]\n"
          ]
        }
      ]
    },
    {
      "cell_type": "markdown",
      "source": [
        "#Combine Charlie's device and Alice's and Bob's detectors into one circuit\n"
      ],
      "metadata": {
        "id": "3wEjLDMXDDCz"
      }
    },
    {
      "cell_type": "code",
      "source": [
        "circuits = [] # the list in which the created circuits will be stored\n",
        "\n",
        "for i in range(number_Of_w_states):\n",
        "    # create the name of the i-th circuit depending on Alice's and Bob's measurement choices\n",
        "    circuitName = str(i) + ':A' + str(aliceMeasurementChoices[i]) + '_B' + str(bobMeasurementChoices[i]) + '_C' + str(charlieMeasurementChoices[i])\n",
        "    #circuitName = str(i) + ':A' + str(aliceMeasurementChoices[i]) + '_B' + str(bobMeasurementChoices[i]) + '_C' + str(charlieMeasurementChoices[i]) + '_E' + str(eveMeasurementChoices[i])\n",
        "\n",
        "    print(\"Circuit Name:\", circuitName)  # Print the circuit name\n",
        "\n",
        "\n",
        "    # create the joint measurement circuit\n",
        "    # add Alice's and Bob's measurement circuits to the singlet state circuit\n",
        "    #jointCircuit = singlet & aliceMeasurements[aliceMeasurementChoices[i]-1] & bobMeasurements[bobMeasurementChoices[i]-1] & charlieMeasurements[charlieMeasurementChoices[i]-1]\n",
        "    jointCircuit = QuantumCircuit(qr, cr)\n",
        "    jointCircuit.compose(transpiled_circuit, inplace=True)\n",
        "    jointCircuit.compose(aliceMeasurements[aliceMeasurementChoices[i]-1], inplace=True)\n",
        "    jointCircuit.compose(bobMeasurements[bobMeasurementChoices[i]-1], inplace=True)\n",
        "    jointCircuit.compose(charlieMeasurements[charlieMeasurementChoices[i]-1], inplace=True)\n",
        "\n",
        "\n",
        "\n",
        "\n",
        "\n",
        "    # add the created circuit to the circuits list\n",
        "    #circuits.append((circuitName, jointCircuit))\n",
        "    circuits.append(jointCircuit)"
      ],
      "metadata": {
        "colab": {
          "base_uri": "https://localhost:8080/"
        },
        "id": "sUwhG006DDym",
        "outputId": "680a5a8d-03fb-40b4-fc58-f378b3420973"
      },
      "execution_count": null,
      "outputs": [
        {
          "output_type": "stream",
          "name": "stdout",
          "text": [
            "Circuit Name: 0:A2_B2_C2\n",
            "Circuit Name: 1:A2_B1_C2\n",
            "Circuit Name: 2:A2_B2_C2\n",
            "Circuit Name: 3:A2_B1_C2\n",
            "Circuit Name: 4:A2_B2_C2\n",
            "Circuit Name: 5:A1_B1_C2\n",
            "Circuit Name: 6:A2_B1_C1\n",
            "Circuit Name: 7:A2_B1_C2\n",
            "Circuit Name: 8:A2_B1_C1\n",
            "Circuit Name: 9:A2_B1_C2\n",
            "Circuit Name: 10:A2_B1_C1\n",
            "Circuit Name: 11:A1_B2_C1\n",
            "Circuit Name: 12:A2_B2_C1\n",
            "Circuit Name: 13:A1_B1_C1\n",
            "Circuit Name: 14:A1_B2_C2\n",
            "Circuit Name: 15:A1_B1_C1\n",
            "Circuit Name: 16:A2_B2_C1\n",
            "Circuit Name: 17:A1_B2_C1\n",
            "Circuit Name: 18:A2_B2_C1\n",
            "Circuit Name: 19:A1_B1_C1\n",
            "Circuit Name: 20:A2_B1_C1\n",
            "Circuit Name: 21:A2_B2_C2\n",
            "Circuit Name: 22:A2_B1_C2\n",
            "Circuit Name: 23:A1_B1_C1\n",
            "Circuit Name: 24:A1_B1_C1\n",
            "Circuit Name: 25:A1_B1_C2\n",
            "Circuit Name: 26:A1_B2_C2\n",
            "Circuit Name: 27:A1_B1_C2\n",
            "Circuit Name: 28:A1_B2_C1\n",
            "Circuit Name: 29:A2_B1_C1\n",
            "Circuit Name: 30:A1_B2_C1\n",
            "Circuit Name: 31:A2_B1_C2\n",
            "Circuit Name: 32:A1_B2_C1\n",
            "Circuit Name: 33:A2_B2_C1\n",
            "Circuit Name: 34:A2_B1_C2\n",
            "Circuit Name: 35:A2_B1_C1\n",
            "Circuit Name: 36:A1_B2_C2\n",
            "Circuit Name: 37:A1_B2_C2\n",
            "Circuit Name: 38:A1_B2_C1\n",
            "Circuit Name: 39:A1_B2_C2\n",
            "Circuit Name: 40:A1_B1_C2\n",
            "Circuit Name: 41:A2_B1_C1\n",
            "Circuit Name: 42:A1_B2_C2\n",
            "Circuit Name: 43:A2_B2_C2\n",
            "Circuit Name: 44:A1_B1_C2\n",
            "Circuit Name: 45:A2_B2_C1\n",
            "Circuit Name: 46:A2_B1_C2\n",
            "Circuit Name: 47:A1_B2_C2\n",
            "Circuit Name: 48:A1_B1_C2\n",
            "Circuit Name: 49:A1_B2_C2\n",
            "Circuit Name: 50:A2_B1_C1\n",
            "Circuit Name: 51:A1_B1_C1\n",
            "Circuit Name: 52:A1_B2_C1\n",
            "Circuit Name: 53:A1_B2_C2\n",
            "Circuit Name: 54:A1_B1_C1\n",
            "Circuit Name: 55:A1_B2_C2\n",
            "Circuit Name: 56:A1_B1_C1\n",
            "Circuit Name: 57:A1_B2_C2\n",
            "Circuit Name: 58:A2_B2_C1\n",
            "Circuit Name: 59:A2_B2_C2\n",
            "Circuit Name: 60:A2_B1_C2\n",
            "Circuit Name: 61:A2_B1_C1\n",
            "Circuit Name: 62:A2_B1_C2\n",
            "Circuit Name: 63:A2_B1_C1\n",
            "Circuit Name: 64:A2_B2_C1\n",
            "Circuit Name: 65:A2_B2_C1\n",
            "Circuit Name: 66:A2_B1_C1\n",
            "Circuit Name: 67:A1_B1_C1\n",
            "Circuit Name: 68:A2_B1_C2\n",
            "Circuit Name: 69:A2_B1_C2\n",
            "Circuit Name: 70:A1_B1_C1\n",
            "Circuit Name: 71:A2_B2_C1\n",
            "Circuit Name: 72:A1_B1_C1\n",
            "Circuit Name: 73:A2_B1_C1\n",
            "Circuit Name: 74:A1_B1_C2\n",
            "Circuit Name: 75:A1_B1_C2\n",
            "Circuit Name: 76:A1_B1_C2\n",
            "Circuit Name: 77:A1_B1_C1\n",
            "Circuit Name: 78:A2_B1_C1\n",
            "Circuit Name: 79:A2_B1_C1\n",
            "Circuit Name: 80:A2_B1_C1\n",
            "Circuit Name: 81:A2_B2_C1\n",
            "Circuit Name: 82:A2_B1_C1\n",
            "Circuit Name: 83:A1_B2_C2\n",
            "Circuit Name: 84:A2_B1_C2\n",
            "Circuit Name: 85:A2_B1_C2\n",
            "Circuit Name: 86:A1_B2_C2\n",
            "Circuit Name: 87:A1_B2_C1\n",
            "Circuit Name: 88:A1_B2_C1\n",
            "Circuit Name: 89:A2_B1_C2\n",
            "Circuit Name: 90:A2_B1_C1\n",
            "Circuit Name: 91:A1_B2_C2\n",
            "Circuit Name: 92:A1_B2_C2\n",
            "Circuit Name: 93:A2_B1_C1\n",
            "Circuit Name: 94:A1_B1_C2\n",
            "Circuit Name: 95:A2_B1_C2\n",
            "Circuit Name: 96:A2_B2_C2\n",
            "Circuit Name: 97:A1_B2_C2\n",
            "Circuit Name: 98:A2_B1_C2\n",
            "Circuit Name: 99:A2_B2_C2\n",
            "Circuit Name: 100:A1_B2_C2\n",
            "Circuit Name: 101:A2_B2_C2\n",
            "Circuit Name: 102:A1_B1_C1\n",
            "Circuit Name: 103:A1_B2_C1\n",
            "Circuit Name: 104:A2_B1_C1\n",
            "Circuit Name: 105:A1_B2_C2\n",
            "Circuit Name: 106:A1_B1_C1\n",
            "Circuit Name: 107:A2_B1_C2\n",
            "Circuit Name: 108:A1_B1_C2\n",
            "Circuit Name: 109:A1_B2_C1\n",
            "Circuit Name: 110:A1_B2_C1\n",
            "Circuit Name: 111:A2_B2_C1\n",
            "Circuit Name: 112:A1_B2_C2\n",
            "Circuit Name: 113:A1_B1_C1\n",
            "Circuit Name: 114:A1_B2_C2\n",
            "Circuit Name: 115:A2_B1_C1\n",
            "Circuit Name: 116:A1_B1_C1\n",
            "Circuit Name: 117:A1_B1_C2\n",
            "Circuit Name: 118:A2_B2_C1\n",
            "Circuit Name: 119:A1_B1_C1\n",
            "Circuit Name: 120:A2_B2_C2\n",
            "Circuit Name: 121:A1_B2_C2\n",
            "Circuit Name: 122:A2_B2_C1\n",
            "Circuit Name: 123:A2_B2_C2\n",
            "Circuit Name: 124:A1_B2_C1\n",
            "Circuit Name: 125:A1_B2_C1\n",
            "Circuit Name: 126:A2_B1_C2\n",
            "Circuit Name: 127:A1_B2_C2\n",
            "Circuit Name: 128:A1_B1_C2\n",
            "Circuit Name: 129:A1_B2_C1\n",
            "Circuit Name: 130:A2_B1_C2\n",
            "Circuit Name: 131:A1_B2_C1\n",
            "Circuit Name: 132:A2_B2_C1\n",
            "Circuit Name: 133:A1_B2_C1\n",
            "Circuit Name: 134:A2_B1_C1\n",
            "Circuit Name: 135:A1_B1_C2\n",
            "Circuit Name: 136:A2_B2_C2\n",
            "Circuit Name: 137:A2_B2_C1\n",
            "Circuit Name: 138:A1_B2_C2\n",
            "Circuit Name: 139:A2_B2_C1\n",
            "Circuit Name: 140:A2_B2_C2\n",
            "Circuit Name: 141:A2_B2_C2\n",
            "Circuit Name: 142:A1_B2_C1\n",
            "Circuit Name: 143:A1_B2_C2\n",
            "Circuit Name: 144:A1_B2_C1\n",
            "Circuit Name: 145:A2_B1_C1\n",
            "Circuit Name: 146:A1_B2_C2\n",
            "Circuit Name: 147:A1_B2_C2\n",
            "Circuit Name: 148:A1_B1_C2\n",
            "Circuit Name: 149:A2_B1_C2\n",
            "Circuit Name: 150:A1_B2_C2\n",
            "Circuit Name: 151:A2_B1_C2\n",
            "Circuit Name: 152:A1_B2_C2\n",
            "Circuit Name: 153:A2_B1_C2\n",
            "Circuit Name: 154:A1_B2_C1\n",
            "Circuit Name: 155:A1_B2_C1\n",
            "Circuit Name: 156:A2_B1_C2\n",
            "Circuit Name: 157:A1_B1_C1\n",
            "Circuit Name: 158:A1_B1_C2\n",
            "Circuit Name: 159:A1_B2_C1\n",
            "Circuit Name: 160:A1_B2_C1\n",
            "Circuit Name: 161:A1_B1_C2\n",
            "Circuit Name: 162:A2_B2_C1\n",
            "Circuit Name: 163:A2_B1_C2\n",
            "Circuit Name: 164:A2_B1_C1\n",
            "Circuit Name: 165:A2_B2_C2\n",
            "Circuit Name: 166:A1_B2_C1\n",
            "Circuit Name: 167:A2_B2_C1\n",
            "Circuit Name: 168:A1_B1_C1\n",
            "Circuit Name: 169:A2_B1_C2\n",
            "Circuit Name: 170:A1_B2_C1\n",
            "Circuit Name: 171:A2_B1_C1\n",
            "Circuit Name: 172:A1_B1_C1\n",
            "Circuit Name: 173:A2_B1_C2\n",
            "Circuit Name: 174:A1_B2_C1\n",
            "Circuit Name: 175:A2_B1_C2\n",
            "Circuit Name: 176:A1_B2_C1\n",
            "Circuit Name: 177:A1_B1_C2\n",
            "Circuit Name: 178:A2_B2_C1\n",
            "Circuit Name: 179:A2_B2_C2\n",
            "Circuit Name: 180:A1_B2_C2\n",
            "Circuit Name: 181:A1_B2_C1\n",
            "Circuit Name: 182:A1_B1_C1\n",
            "Circuit Name: 183:A1_B1_C1\n",
            "Circuit Name: 184:A2_B1_C1\n",
            "Circuit Name: 185:A2_B2_C1\n",
            "Circuit Name: 186:A1_B1_C2\n",
            "Circuit Name: 187:A1_B1_C1\n",
            "Circuit Name: 188:A2_B1_C2\n",
            "Circuit Name: 189:A1_B1_C1\n",
            "Circuit Name: 190:A1_B1_C1\n",
            "Circuit Name: 191:A1_B1_C1\n",
            "Circuit Name: 192:A1_B2_C1\n",
            "Circuit Name: 193:A1_B2_C1\n",
            "Circuit Name: 194:A2_B2_C2\n",
            "Circuit Name: 195:A1_B2_C1\n",
            "Circuit Name: 196:A1_B2_C1\n",
            "Circuit Name: 197:A1_B1_C2\n",
            "Circuit Name: 198:A2_B2_C1\n",
            "Circuit Name: 199:A2_B1_C1\n",
            "Circuit Name: 200:A1_B1_C2\n",
            "Circuit Name: 201:A2_B2_C1\n",
            "Circuit Name: 202:A2_B2_C1\n",
            "Circuit Name: 203:A2_B2_C2\n",
            "Circuit Name: 204:A1_B1_C1\n",
            "Circuit Name: 205:A1_B2_C1\n",
            "Circuit Name: 206:A1_B1_C2\n",
            "Circuit Name: 207:A1_B2_C2\n",
            "Circuit Name: 208:A1_B1_C2\n",
            "Circuit Name: 209:A2_B2_C1\n",
            "Circuit Name: 210:A1_B1_C2\n",
            "Circuit Name: 211:A1_B1_C2\n",
            "Circuit Name: 212:A2_B2_C2\n",
            "Circuit Name: 213:A2_B2_C2\n",
            "Circuit Name: 214:A1_B1_C2\n",
            "Circuit Name: 215:A1_B2_C1\n",
            "Circuit Name: 216:A2_B2_C1\n",
            "Circuit Name: 217:A2_B2_C1\n",
            "Circuit Name: 218:A1_B2_C2\n",
            "Circuit Name: 219:A1_B1_C2\n",
            "Circuit Name: 220:A1_B2_C1\n",
            "Circuit Name: 221:A2_B2_C1\n",
            "Circuit Name: 222:A2_B1_C1\n",
            "Circuit Name: 223:A2_B1_C2\n",
            "Circuit Name: 224:A1_B1_C2\n",
            "Circuit Name: 225:A1_B1_C1\n",
            "Circuit Name: 226:A1_B1_C1\n",
            "Circuit Name: 227:A2_B2_C1\n",
            "Circuit Name: 228:A2_B2_C1\n",
            "Circuit Name: 229:A2_B1_C1\n",
            "Circuit Name: 230:A1_B2_C1\n",
            "Circuit Name: 231:A1_B2_C2\n",
            "Circuit Name: 232:A2_B2_C1\n",
            "Circuit Name: 233:A2_B1_C1\n",
            "Circuit Name: 234:A2_B1_C2\n",
            "Circuit Name: 235:A2_B2_C1\n",
            "Circuit Name: 236:A2_B1_C2\n",
            "Circuit Name: 237:A2_B1_C1\n",
            "Circuit Name: 238:A2_B2_C1\n",
            "Circuit Name: 239:A1_B2_C1\n",
            "Circuit Name: 240:A1_B1_C2\n",
            "Circuit Name: 241:A2_B2_C2\n",
            "Circuit Name: 242:A2_B1_C2\n",
            "Circuit Name: 243:A1_B1_C2\n",
            "Circuit Name: 244:A2_B2_C1\n",
            "Circuit Name: 245:A1_B2_C2\n",
            "Circuit Name: 246:A1_B1_C1\n",
            "Circuit Name: 247:A1_B2_C1\n",
            "Circuit Name: 248:A2_B2_C1\n",
            "Circuit Name: 249:A1_B1_C2\n",
            "Circuit Name: 250:A2_B2_C2\n",
            "Circuit Name: 251:A1_B2_C2\n",
            "Circuit Name: 252:A2_B1_C2\n",
            "Circuit Name: 253:A2_B1_C1\n",
            "Circuit Name: 254:A2_B2_C2\n",
            "Circuit Name: 255:A2_B2_C1\n",
            "Circuit Name: 256:A2_B1_C1\n",
            "Circuit Name: 257:A2_B1_C2\n",
            "Circuit Name: 258:A2_B1_C1\n",
            "Circuit Name: 259:A1_B2_C2\n",
            "Circuit Name: 260:A2_B2_C2\n",
            "Circuit Name: 261:A2_B1_C2\n",
            "Circuit Name: 262:A1_B1_C1\n",
            "Circuit Name: 263:A2_B1_C1\n",
            "Circuit Name: 264:A1_B1_C2\n",
            "Circuit Name: 265:A2_B2_C1\n",
            "Circuit Name: 266:A2_B2_C1\n",
            "Circuit Name: 267:A1_B2_C1\n",
            "Circuit Name: 268:A1_B2_C2\n",
            "Circuit Name: 269:A2_B1_C1\n",
            "Circuit Name: 270:A2_B1_C2\n",
            "Circuit Name: 271:A2_B1_C1\n",
            "Circuit Name: 272:A1_B1_C1\n",
            "Circuit Name: 273:A2_B1_C2\n",
            "Circuit Name: 274:A2_B2_C1\n",
            "Circuit Name: 275:A1_B1_C1\n",
            "Circuit Name: 276:A2_B2_C2\n",
            "Circuit Name: 277:A1_B1_C1\n",
            "Circuit Name: 278:A1_B2_C2\n",
            "Circuit Name: 279:A1_B1_C2\n",
            "Circuit Name: 280:A2_B2_C2\n",
            "Circuit Name: 281:A2_B1_C2\n",
            "Circuit Name: 282:A1_B2_C1\n",
            "Circuit Name: 283:A1_B2_C2\n",
            "Circuit Name: 284:A1_B2_C2\n",
            "Circuit Name: 285:A1_B1_C1\n",
            "Circuit Name: 286:A1_B1_C2\n",
            "Circuit Name: 287:A2_B1_C2\n",
            "Circuit Name: 288:A1_B1_C2\n",
            "Circuit Name: 289:A2_B2_C1\n",
            "Circuit Name: 290:A1_B1_C2\n",
            "Circuit Name: 291:A1_B1_C2\n",
            "Circuit Name: 292:A1_B2_C1\n",
            "Circuit Name: 293:A2_B1_C2\n",
            "Circuit Name: 294:A1_B2_C1\n",
            "Circuit Name: 295:A1_B1_C2\n",
            "Circuit Name: 296:A2_B1_C1\n",
            "Circuit Name: 297:A1_B1_C1\n",
            "Circuit Name: 298:A2_B1_C2\n",
            "Circuit Name: 299:A2_B1_C2\n",
            "Circuit Name: 300:A2_B1_C1\n",
            "Circuit Name: 301:A2_B1_C1\n",
            "Circuit Name: 302:A2_B2_C2\n",
            "Circuit Name: 303:A1_B2_C1\n",
            "Circuit Name: 304:A2_B2_C2\n",
            "Circuit Name: 305:A1_B2_C1\n",
            "Circuit Name: 306:A1_B2_C2\n",
            "Circuit Name: 307:A2_B1_C1\n",
            "Circuit Name: 308:A2_B1_C1\n",
            "Circuit Name: 309:A2_B2_C2\n",
            "Circuit Name: 310:A1_B2_C1\n",
            "Circuit Name: 311:A1_B1_C2\n",
            "Circuit Name: 312:A1_B1_C1\n",
            "Circuit Name: 313:A1_B2_C2\n",
            "Circuit Name: 314:A2_B2_C2\n",
            "Circuit Name: 315:A1_B1_C2\n",
            "Circuit Name: 316:A1_B1_C2\n",
            "Circuit Name: 317:A2_B1_C2\n",
            "Circuit Name: 318:A2_B2_C1\n",
            "Circuit Name: 319:A2_B1_C1\n",
            "Circuit Name: 320:A1_B1_C1\n",
            "Circuit Name: 321:A1_B2_C2\n",
            "Circuit Name: 322:A1_B2_C1\n",
            "Circuit Name: 323:A2_B1_C1\n",
            "Circuit Name: 324:A1_B1_C2\n",
            "Circuit Name: 325:A2_B1_C1\n",
            "Circuit Name: 326:A2_B1_C2\n",
            "Circuit Name: 327:A1_B1_C2\n",
            "Circuit Name: 328:A1_B2_C1\n",
            "Circuit Name: 329:A2_B2_C2\n",
            "Circuit Name: 330:A1_B1_C1\n",
            "Circuit Name: 331:A1_B2_C1\n",
            "Circuit Name: 332:A2_B1_C1\n",
            "Circuit Name: 333:A2_B1_C2\n",
            "Circuit Name: 334:A1_B2_C2\n",
            "Circuit Name: 335:A1_B1_C1\n",
            "Circuit Name: 336:A1_B1_C2\n",
            "Circuit Name: 337:A1_B1_C2\n",
            "Circuit Name: 338:A2_B1_C1\n",
            "Circuit Name: 339:A2_B2_C2\n",
            "Circuit Name: 340:A1_B2_C2\n",
            "Circuit Name: 341:A1_B1_C1\n",
            "Circuit Name: 342:A1_B2_C1\n",
            "Circuit Name: 343:A2_B2_C1\n",
            "Circuit Name: 344:A2_B2_C2\n",
            "Circuit Name: 345:A1_B1_C1\n",
            "Circuit Name: 346:A2_B1_C1\n",
            "Circuit Name: 347:A1_B2_C2\n",
            "Circuit Name: 348:A2_B1_C2\n",
            "Circuit Name: 349:A2_B1_C1\n",
            "Circuit Name: 350:A2_B2_C1\n",
            "Circuit Name: 351:A1_B2_C2\n",
            "Circuit Name: 352:A1_B1_C1\n",
            "Circuit Name: 353:A1_B2_C2\n",
            "Circuit Name: 354:A2_B2_C1\n",
            "Circuit Name: 355:A2_B1_C2\n",
            "Circuit Name: 356:A1_B1_C1\n",
            "Circuit Name: 357:A2_B1_C2\n",
            "Circuit Name: 358:A2_B1_C2\n",
            "Circuit Name: 359:A1_B2_C2\n",
            "Circuit Name: 360:A1_B2_C2\n",
            "Circuit Name: 361:A1_B2_C2\n",
            "Circuit Name: 362:A2_B1_C1\n",
            "Circuit Name: 363:A2_B2_C1\n",
            "Circuit Name: 364:A2_B1_C2\n",
            "Circuit Name: 365:A2_B2_C1\n",
            "Circuit Name: 366:A2_B1_C2\n",
            "Circuit Name: 367:A2_B1_C2\n",
            "Circuit Name: 368:A2_B1_C2\n",
            "Circuit Name: 369:A1_B2_C1\n",
            "Circuit Name: 370:A2_B2_C2\n",
            "Circuit Name: 371:A2_B2_C1\n",
            "Circuit Name: 372:A1_B2_C2\n",
            "Circuit Name: 373:A1_B1_C1\n",
            "Circuit Name: 374:A1_B2_C1\n",
            "Circuit Name: 375:A2_B1_C1\n",
            "Circuit Name: 376:A1_B1_C2\n",
            "Circuit Name: 377:A1_B1_C2\n",
            "Circuit Name: 378:A1_B2_C2\n",
            "Circuit Name: 379:A2_B1_C2\n",
            "Circuit Name: 380:A1_B2_C1\n",
            "Circuit Name: 381:A1_B2_C1\n",
            "Circuit Name: 382:A2_B2_C1\n",
            "Circuit Name: 383:A2_B1_C1\n",
            "Circuit Name: 384:A1_B1_C1\n",
            "Circuit Name: 385:A2_B1_C1\n",
            "Circuit Name: 386:A1_B1_C1\n",
            "Circuit Name: 387:A1_B1_C1\n",
            "Circuit Name: 388:A2_B1_C2\n",
            "Circuit Name: 389:A1_B2_C1\n",
            "Circuit Name: 390:A2_B1_C2\n",
            "Circuit Name: 391:A2_B1_C1\n",
            "Circuit Name: 392:A2_B1_C1\n",
            "Circuit Name: 393:A1_B1_C2\n",
            "Circuit Name: 394:A1_B2_C2\n",
            "Circuit Name: 395:A1_B1_C2\n",
            "Circuit Name: 396:A1_B1_C1\n",
            "Circuit Name: 397:A1_B2_C2\n",
            "Circuit Name: 398:A1_B2_C1\n",
            "Circuit Name: 399:A1_B1_C1\n",
            "Circuit Name: 400:A2_B1_C1\n",
            "Circuit Name: 401:A1_B2_C2\n",
            "Circuit Name: 402:A1_B2_C2\n",
            "Circuit Name: 403:A2_B1_C2\n",
            "Circuit Name: 404:A2_B2_C2\n",
            "Circuit Name: 405:A1_B2_C2\n",
            "Circuit Name: 406:A2_B2_C1\n",
            "Circuit Name: 407:A1_B1_C2\n",
            "Circuit Name: 408:A2_B1_C2\n",
            "Circuit Name: 409:A2_B2_C2\n",
            "Circuit Name: 410:A2_B2_C1\n",
            "Circuit Name: 411:A2_B2_C2\n",
            "Circuit Name: 412:A1_B1_C2\n",
            "Circuit Name: 413:A1_B1_C2\n",
            "Circuit Name: 414:A1_B2_C1\n",
            "Circuit Name: 415:A1_B1_C2\n",
            "Circuit Name: 416:A2_B2_C2\n",
            "Circuit Name: 417:A2_B1_C2\n",
            "Circuit Name: 418:A2_B2_C1\n",
            "Circuit Name: 419:A2_B2_C2\n",
            "Circuit Name: 420:A2_B2_C2\n",
            "Circuit Name: 421:A1_B1_C2\n",
            "Circuit Name: 422:A2_B1_C1\n",
            "Circuit Name: 423:A1_B2_C1\n",
            "Circuit Name: 424:A1_B2_C2\n",
            "Circuit Name: 425:A1_B1_C2\n",
            "Circuit Name: 426:A2_B1_C1\n",
            "Circuit Name: 427:A1_B1_C1\n",
            "Circuit Name: 428:A1_B2_C2\n",
            "Circuit Name: 429:A1_B2_C1\n",
            "Circuit Name: 430:A1_B1_C1\n",
            "Circuit Name: 431:A1_B1_C1\n",
            "Circuit Name: 432:A1_B1_C2\n",
            "Circuit Name: 433:A1_B2_C1\n",
            "Circuit Name: 434:A2_B1_C1\n",
            "Circuit Name: 435:A1_B2_C2\n",
            "Circuit Name: 436:A1_B2_C1\n",
            "Circuit Name: 437:A1_B2_C1\n",
            "Circuit Name: 438:A1_B1_C1\n",
            "Circuit Name: 439:A1_B2_C2\n",
            "Circuit Name: 440:A1_B1_C2\n",
            "Circuit Name: 441:A1_B1_C2\n",
            "Circuit Name: 442:A1_B1_C2\n",
            "Circuit Name: 443:A2_B1_C1\n",
            "Circuit Name: 444:A1_B2_C2\n",
            "Circuit Name: 445:A2_B1_C1\n",
            "Circuit Name: 446:A1_B1_C1\n",
            "Circuit Name: 447:A1_B1_C1\n",
            "Circuit Name: 448:A2_B2_C2\n",
            "Circuit Name: 449:A1_B1_C2\n",
            "Circuit Name: 450:A2_B1_C2\n",
            "Circuit Name: 451:A1_B1_C2\n",
            "Circuit Name: 452:A2_B2_C2\n",
            "Circuit Name: 453:A2_B1_C1\n",
            "Circuit Name: 454:A1_B1_C2\n",
            "Circuit Name: 455:A1_B2_C1\n",
            "Circuit Name: 456:A2_B1_C2\n",
            "Circuit Name: 457:A2_B1_C1\n",
            "Circuit Name: 458:A1_B2_C2\n",
            "Circuit Name: 459:A2_B2_C2\n",
            "Circuit Name: 460:A1_B2_C1\n",
            "Circuit Name: 461:A2_B1_C1\n",
            "Circuit Name: 462:A2_B1_C1\n",
            "Circuit Name: 463:A1_B1_C2\n",
            "Circuit Name: 464:A2_B2_C1\n",
            "Circuit Name: 465:A2_B1_C2\n",
            "Circuit Name: 466:A1_B1_C2\n",
            "Circuit Name: 467:A1_B1_C2\n",
            "Circuit Name: 468:A2_B2_C1\n",
            "Circuit Name: 469:A2_B2_C1\n",
            "Circuit Name: 470:A2_B2_C1\n",
            "Circuit Name: 471:A1_B1_C1\n",
            "Circuit Name: 472:A1_B2_C1\n",
            "Circuit Name: 473:A2_B2_C2\n",
            "Circuit Name: 474:A2_B2_C1\n",
            "Circuit Name: 475:A1_B1_C1\n",
            "Circuit Name: 476:A2_B2_C2\n",
            "Circuit Name: 477:A2_B2_C1\n",
            "Circuit Name: 478:A2_B1_C2\n",
            "Circuit Name: 479:A1_B1_C2\n",
            "Circuit Name: 480:A1_B2_C2\n",
            "Circuit Name: 481:A2_B2_C2\n",
            "Circuit Name: 482:A1_B1_C2\n",
            "Circuit Name: 483:A2_B1_C2\n",
            "Circuit Name: 484:A1_B1_C1\n",
            "Circuit Name: 485:A2_B1_C2\n",
            "Circuit Name: 486:A1_B1_C1\n",
            "Circuit Name: 487:A2_B1_C1\n",
            "Circuit Name: 488:A1_B2_C1\n",
            "Circuit Name: 489:A2_B2_C1\n",
            "Circuit Name: 490:A1_B2_C1\n",
            "Circuit Name: 491:A2_B2_C2\n",
            "Circuit Name: 492:A2_B2_C2\n",
            "Circuit Name: 493:A1_B1_C2\n",
            "Circuit Name: 494:A1_B2_C1\n",
            "Circuit Name: 495:A1_B1_C1\n",
            "Circuit Name: 496:A2_B1_C1\n",
            "Circuit Name: 497:A2_B2_C1\n",
            "Circuit Name: 498:A1_B1_C2\n",
            "Circuit Name: 499:A2_B1_C1\n"
          ]
        }
      ]
    },
    {
      "cell_type": "markdown",
      "source": [
        "Let us look at the name of one of the prepared circuits\n"
      ],
      "metadata": {
        "id": "K9cxFb8MDUfb"
      }
    },
    {
      "cell_type": "code",
      "source": [
        "# Access the joint circuit from the tuple in the circuits list\n",
        "#jointCircuit = circuits[1][1]\n",
        "jointCircuit = circuits[90]\n",
        "\n",
        "# Print the name of the joint circuit\n",
        "#print(circuits[34][0])\n",
        "print(jointCircuit.name)\n",
        "\n",
        "# Draw the circuit\n",
        "jointCircuit.draw(output='mpl', initial_state=True)"
      ],
      "metadata": {
        "colab": {
          "base_uri": "https://localhost:8080/",
          "height": 348
        },
        "id": "J9moV2MnDPTC",
        "outputId": "c74b0d5d-99a2-4c91-a0b3-3a42d8b1e869"
      },
      "execution_count": null,
      "outputs": [
        {
          "output_type": "stream",
          "name": "stdout",
          "text": [
            "circuit-272\n"
          ]
        },
        {
          "output_type": "execute_result",
          "data": {
            "text/plain": [
              "<Figure size 1439.14x367.889 with 1 Axes>"
            ],
            "image/png": "[encoded data removed]"
          },
          "metadata": {},
          "execution_count": 17
        }
      ]
    },
    {
      "cell_type": "markdown",
      "source": [
        "#Quantum computer"
      ],
      "metadata": {
        "id": "j59DBU_HeUhN"
      }
    },
    {
      "cell_type": "code",
      "source": [
        "# Get available backends\n",
        "available_backends = provider.backends(operational=True, simulator=False)\n",
        "\n",
        "# Find the least busy backend\n",
        "least_busy_backend = min(available_backends, key=lambda x: x.status().pending_jobs)\n",
        "\n",
        "print(\"Least Busy Backend:\", least_busy_backend)\n"
      ],
      "metadata": {
        "colab": {
          "base_uri": "https://localhost:8080/"
        },
        "id": "Z5QPfvL2ol_Z",
        "outputId": "b1a4188c-1a2b-46b5-d172-bb7969656e0c"
      },
      "execution_count": null,
      "outputs": [
        {
          "output_type": "stream",
          "name": "stdout",
          "text": [
            "Least Busy Backend: ibm_osaka\n"
          ]
        }
      ]
    },
    {
      "cell_type": "code",
      "source": [
        "# Check backend status\n",
        "backend_status = qcomp.status()\n",
        "print(\"Backend Status:\")\n",
        "print(\"Pending Jobs:\", backend_status.pending_jobs)\n"
      ],
      "metadata": {
        "colab": {
          "base_uri": "https://localhost:8080/"
        },
        "id": "BpRCuClJ92Fg",
        "outputId": "f0aa9066-b795-4ec9-e481-7462b04be69a"
      },
      "execution_count": null,
      "outputs": [
        {
          "output_type": "stream",
          "name": "stdout",
          "text": [
            "Backend Status:\n",
            "Pending Jobs: 1\n"
          ]
        }
      ]
    },
    {
      "cell_type": "code",
      "source": [
        "#save API token (got from IBM Quantum website)\n",
        "IBMQ.save_account('1eadaf0a1ad90093bdf74cdaf6256ef29a3edcf8b37ffbf9843905072562c8ecaab359f9c9e8a9cecf650e6d5463a0f722445835bd57a790872ad1004f97e770')\n",
        "\n",
        "#load account\n",
        "IBMQ.load_account()\n",
        "\n",
        "#select a provider\n",
        "provider = IBMQ.get_provider('ibm-q')\n",
        "\n",
        "#select quantum device\n",
        "qcomp = provider.get_backend('ibm_osaka')\n",
        "\n",
        "#run on real device ( real QC)\n",
        "job = execute(circuits, backend = qcomp)\n",
        "\n",
        "#monitor the job\n",
        "job_monitor(job)\n",
        "\n",
        "\n",
        "\n",
        "#get result\n",
        "result = job.result()\n",
        "\n",
        "print(\"Raw Data:\", job.result().to_dict())\n",
        "\n",
        "\n",
        "#get histogram data\n",
        "count = result.get_counts()"
      ],
      "metadata": {
        "colab": {
          "base_uri": "https://localhost:8080/",
          "height": 636
        },
        "id": "vmEu_-A0eXLj",
        "outputId": "802a6027-576a-48ff-f4b9-68fb6595e069"
      },
      "execution_count": null,
      "outputs": [
        {
          "output_type": "stream",
          "name": "stderr",
          "text": [
            "<ipython-input-90-58df4d3007d0>:2: DeprecationWarning: The qiskit.IBMQ entrypoint and the qiskit-ibmq-provider package (accessible from 'qiskit.providers.ibmq`) are deprecated and will be removed in a future release. Instead you should use the qiskit-ibm-provider package which is accessible from 'qiskit_ibm_provider'. You can install it with 'pip install qiskit_ibm_provider'. Just replace 'qiskit.IBMQ' with 'qiskit_ibm_provider.IBMProvider'\n",
            "  IBMQ.save_account('1eadaf0a1ad90093bdf74cdaf6256ef29a3edcf8b37ffbf9843905072562c8ecaab359f9c9e8a9cecf650e6d5463a0f722445835bd57a790872ad1004f97e770')\n"
          ]
        },
        {
          "output_type": "error",
          "ename": "MissingOptionalLibraryError",
          "evalue": "\"The 'qiskit-ibmq-provider' library is required to use 'IBMQ provider'. You can install it with 'pip install qiskit-ibmq-provider'.\"",
          "traceback": [
            "\u001b[0;31m---------------------------------------------------------------------------\u001b[0m",
            "\u001b[0;31mImportError\u001b[0m                               Traceback (most recent call last)",
            "\u001b[0;32m/usr/local/lib/python3.10/dist-packages/qiskit/__init__.py\u001b[0m in \u001b[0;36m__getattr__\u001b[0;34m(self, attr)\u001b[0m\n\u001b[1;32m    199\u001b[0m             \u001b[0;32mtry\u001b[0m\u001b[0;34m:\u001b[0m\u001b[0;34m\u001b[0m\u001b[0;34m\u001b[0m\u001b[0m\n\u001b[0;32m--> 200\u001b[0;31m                 \u001b[0;32mfrom\u001b[0m \u001b[0mqiskit\u001b[0m\u001b[0;34m.\u001b[0m\u001b[0mproviders\u001b[0m \u001b[0;32mimport\u001b[0m \u001b[0mibmq\u001b[0m\u001b[0;34m\u001b[0m\u001b[0;34m\u001b[0m\u001b[0m\n\u001b[0m\u001b[1;32m    201\u001b[0m \u001b[0;34m\u001b[0m\u001b[0m\n",
            "\u001b[0;31mImportError\u001b[0m: cannot import name 'ibmq' from 'qiskit.providers' (/usr/local/lib/python3.10/dist-packages/qiskit/providers/__init__.py)",
            "\nThe above exception was the direct cause of the following exception:\n",
            "\u001b[0;31mMissingOptionalLibraryError\u001b[0m               Traceback (most recent call last)",
            "\u001b[0;32m<ipython-input-90-58df4d3007d0>\u001b[0m in \u001b[0;36m<cell line: 2>\u001b[0;34m()\u001b[0m\n\u001b[1;32m      1\u001b[0m \u001b[0;31m#save API token (got from IBM Quantum website)\u001b[0m\u001b[0;34m\u001b[0m\u001b[0;34m\u001b[0m\u001b[0m\n\u001b[0;32m----> 2\u001b[0;31m \u001b[0mIBMQ\u001b[0m\u001b[0;34m.\u001b[0m\u001b[0msave_account\u001b[0m\u001b[0;34m(\u001b[0m\u001b[0;34m'1eadaf0a1ad90093bdf74cdaf6256ef29a3edcf8b37ffbf9843905072562c8ecaab359f9c9e8a9cecf650e6d5463a0f722445835bd57a790872ad1004f97e770'\u001b[0m\u001b[0;34m)\u001b[0m\u001b[0;34m\u001b[0m\u001b[0;34m\u001b[0m\u001b[0m\n\u001b[0m\u001b[1;32m      3\u001b[0m \u001b[0;34m\u001b[0m\u001b[0m\n\u001b[1;32m      4\u001b[0m \u001b[0;31m#load account\u001b[0m\u001b[0;34m\u001b[0m\u001b[0;34m\u001b[0m\u001b[0m\n\u001b[1;32m      5\u001b[0m \u001b[0mIBMQ\u001b[0m\u001b[0;34m.\u001b[0m\u001b[0mload_account\u001b[0m\u001b[0;34m(\u001b[0m\u001b[0;34m)\u001b[0m\u001b[0;34m\u001b[0m\u001b[0;34m\u001b[0m\u001b[0m\n",
            "\u001b[0;32m/usr/local/lib/python3.10/dist-packages/qiskit/__init__.py\u001b[0m in \u001b[0;36m__getattr__\u001b[0;34m(self, attr)\u001b[0m\n\u001b[1;32m    202\u001b[0m                 \u001b[0mself\u001b[0m\u001b[0;34m.\u001b[0m\u001b[0mibmq\u001b[0m \u001b[0;34m=\u001b[0m \u001b[0mibmq\u001b[0m\u001b[0;34m.\u001b[0m\u001b[0mIBMQ\u001b[0m\u001b[0;34m\u001b[0m\u001b[0;34m\u001b[0m\u001b[0m\n\u001b[1;32m    203\u001b[0m             \u001b[0;32mexcept\u001b[0m \u001b[0mImportError\u001b[0m \u001b[0;32mas\u001b[0m \u001b[0mex\u001b[0m\u001b[0;34m:\u001b[0m\u001b[0;34m\u001b[0m\u001b[0;34m\u001b[0m\u001b[0m\n\u001b[0;32m--> 204\u001b[0;31m                 raise MissingOptionalLibraryError(\n\u001b[0m\u001b[1;32m    205\u001b[0m                     \u001b[0;34m\"qiskit-ibmq-provider\"\u001b[0m\u001b[0;34m,\u001b[0m \u001b[0;34m\"IBMQ provider\"\u001b[0m\u001b[0;34m,\u001b[0m \u001b[0;34m\"pip install qiskit-ibmq-provider\"\u001b[0m\u001b[0;34m\u001b[0m\u001b[0;34m\u001b[0m\u001b[0m\n\u001b[1;32m    206\u001b[0m                 ) from ex\n",
            "\u001b[0;31mMissingOptionalLibraryError\u001b[0m: \"The 'qiskit-ibmq-provider' library is required to use 'IBMQ provider'. You can install it with 'pip install qiskit-ibmq-provider'.\"",
            "",
            "\u001b[0;31m---------------------------------------------------------------------------\u001b[0;32m\nNOTE: If your import is failing due to a missing package, you can\nmanually install dependencies using either !pip or !apt.\n\nTo view examples of installing some common dependencies, click the\n\"Open Examples\" button below.\n\u001b[0;31m---------------------------------------------------------------------------\u001b[0m\n"
          ],
          "errorDetails": {
            "actions": [
              {
                "action": "open_url",
                "actionText": "Open Examples",
                "url": "/notebooks/snippets/importing_libraries.ipynb"
              }
            ]
          }
        }
      ]
    },
    {
      "cell_type": "markdown",
      "source": [
        "#Simulation"
      ],
      "metadata": {
        "id": "651gA3T7DbLe"
      }
    },
    {
      "cell_type": "code",
      "source": [
        "#backend = BasicSimulator()\n",
        "#result = backend.run(circuits).result()\n",
        "#backend = GenericBackendV2(num_qubits=5)\n",
        "\n",
        "\n",
        "# Run the transpiled circuit using the simulated backend\n",
        "#job = backend.run(circuits,shots = 450)\n",
        "#counts = job.result().get_counts(circuits)\n",
        "\n",
        "from qiskit.providers.basic_provider import BasicSimulator\n",
        "backend = BasicSimulator()\n",
        "results = backend.run(circuits,shots=512).result()\n",
        "\n",
        "#backend = BasicAer.get_backend('qasm_simulator')\n",
        "#results = execute(singlet, backend=backend, shots=512).result()"
      ],
      "metadata": {
        "id": "O8YbSxlWDb3H"
      },
      "execution_count": null,
      "outputs": []
    },
    {
      "cell_type": "code",
      "source": [
        "\n",
        "\n",
        "#backend = BasicAer.get_backend('qasm_simulator')\n",
        "#results = execute(singlet, backend=backend, shots=512).result()\n",
        "\n",
        "\n",
        "\n",
        "counts = results.get_counts(circuits[0])\n",
        "\n",
        "plot_histogram(counts)\n",
        "\n",
        "#results.get_counts(circuits[0])\n",
        "\n",
        "\n",
        "\n"
      ],
      "metadata": {
        "colab": {
          "base_uri": "https://localhost:8080/",
          "height": 446
        },
        "id": "jQr8DkByELNE",
        "outputId": "39c4c85e-c45d-4db4-f957-7529388be6a2"
      },
      "execution_count": null,
      "outputs": [
        {
          "output_type": "execute_result",
          "data": {
            "text/plain": [
              "<Figure size 640x480 with 1 Axes>"
            ],
            "image/png": "[encoded data removed]"
          },
          "metadata": {},
          "execution_count": 19
        }
      ]
    },
    {
      "cell_type": "markdown",
      "source": [
        "#Simulate Strings"
      ],
      "metadata": {
        "id": "vdLt5cw3BU3B"
      }
    },
    {
      "cell_type": "code",
      "source": [
        "import re\n",
        "\n",
        "# Define regular expressions to search for specific patterns in measurement results\n",
        "abPatterns = [\n",
        "    re.compile('000$'),  # Search for the '...000' output (Alice obtained -1, Bob obtained -1, and Charlie obtained -1)\n",
        "    re.compile('001$'),# Search for the '...001' output\n",
        "    re.compile('010$'),\n",
        "    re.compile('011$'),\n",
        "    re.compile('100$'),\n",
        "    re.compile('101$'),\n",
        "    #re.compile('101$'),  # Search for the '...101' output\n",
        "]\n"
      ],
      "metadata": {
        "id": "IKbUbmXjBV1Y"
      },
      "execution_count": null,
      "outputs": []
    },
    {
      "cell_type": "markdown",
      "source": [
        "#Storing the result"
      ],
      "metadata": {
        "id": "RtasACOdBdvw"
      }
    },
    {
      "cell_type": "code",
      "source": [
        "aliceResults = []  # Alice's results (string a)\n",
        "bobResults = []  # Bob's results (string a')\n",
        "charlieResults = []  # Charlie's results (string a\")\n",
        "\n",
        "#qiskit_results = list(results.get_counts(140))[0]\n",
        "#    res = list(results.get_counts(circuits[i]))[0]\n",
        "\n",
        "\n",
        "for i in range(number_Of_w_states):\n",
        "    qiskit_result = list(results.get_counts(i))[0]  # Use the correct index to get the result\n",
        "    if abPatterns[0].search(qiskit_result):\n",
        "        aliceResults.append('-1')\n",
        "        bobResults.append('-1')\n",
        "        charlieResults.append('-1')\n",
        "        print(qiskit_result)\n",
        "        #print(aliceResults)\n",
        "    elif abPatterns[1].search(qiskit_result):\n",
        "        aliceResults.append('-1')\n",
        "        bobResults.append('-1')\n",
        "        charlieResults.append('1')\n",
        "        print(qiskit_result)\n",
        "    elif abPatterns[2].search(qiskit_result):\n",
        "        aliceResults.append('-1')\n",
        "        bobResults.append('1')\n",
        "        charlieResults.append('-1')\n",
        "        print(qiskit_result)\n",
        "    elif abPatterns[3].search(qiskit_result):\n",
        "        aliceResults.append('-1')\n",
        "        bobResults.append('1')\n",
        "        charlieResults.append('1')\n",
        "        print(qiskit_result)\n",
        "    elif abPatterns[4].search(qiskit_result):\n",
        "        aliceResults.append('1')\n",
        "        bobResults.append('-1')\n",
        "        charlieResults.append('-1')\n",
        "        print(qiskit_result)\n",
        "    elif abPatterns[3].search(qiskit_result):\n",
        "        aliceResults.append('1')\n",
        "        bobResults.append('-1')\n",
        "        charlieResults.append('1')\n",
        "        print(qiskit_result)\n",
        "\n",
        "\n"
      ],
      "metadata": {
        "colab": {
          "base_uri": "https://localhost:8080/"
        },
        "id": "Vho_Dwk8Bf3t",
        "outputId": "5a3f6a0e-e9d6-4d2c-960f-eeb87e248f6b"
      },
      "execution_count": null,
      "outputs": [
        {
          "output_type": "stream",
          "name": "stdout",
          "text": [
            "010\n",
            "000\n",
            "001\n",
            "001\n",
            "100\n",
            "001\n",
            "001\n",
            "000\n",
            "010\n",
            "000\n",
            "000\n",
            "100\n",
            "000\n",
            "001\n",
            "100\n",
            "000\n",
            "000\n",
            "100\n",
            "010\n",
            "100\n",
            "100\n",
            "001\n",
            "000\n",
            "000\n",
            "000\n",
            "000\n",
            "001\n",
            "100\n",
            "010\n",
            "100\n",
            "100\n",
            "000\n",
            "000\n",
            "000\n",
            "000\n",
            "001\n",
            "000\n",
            "000\n",
            "010\n",
            "001\n",
            "000\n",
            "000\n",
            "010\n",
            "001\n",
            "000\n",
            "000\n",
            "000\n",
            "000\n",
            "000\n",
            "000\n",
            "000\n",
            "001\n",
            "001\n",
            "000\n",
            "100\n",
            "001\n",
            "000\n",
            "000\n",
            "010\n",
            "100\n",
            "001\n",
            "100\n",
            "100\n",
            "001\n",
            "000\n",
            "010\n",
            "001\n",
            "001\n",
            "001\n",
            "001\n",
            "001\n",
            "000\n",
            "000\n",
            "000\n",
            "010\n",
            "000\n",
            "100\n",
            "100\n",
            "010\n",
            "010\n",
            "010\n",
            "100\n",
            "000\n",
            "100\n",
            "001\n",
            "001\n",
            "000\n",
            "100\n",
            "010\n",
            "000\n",
            "000\n",
            "000\n",
            "000\n",
            "100\n",
            "000\n",
            "001\n",
            "000\n",
            "001\n",
            "001\n",
            "000\n",
            "001\n",
            "100\n",
            "001\n",
            "000\n",
            "000\n",
            "000\n",
            "100\n",
            "100\n",
            "100\n",
            "010\n",
            "000\n",
            "100\n",
            "001\n",
            "000\n",
            "010\n",
            "000\n",
            "000\n",
            "100\n",
            "000\n",
            "000\n",
            "010\n",
            "100\n",
            "001\n",
            "000\n",
            "000\n",
            "000\n",
            "001\n",
            "001\n",
            "000\n",
            "000\n",
            "000\n",
            "000\n",
            "000\n",
            "100\n",
            "000\n",
            "000\n",
            "000\n",
            "000\n",
            "100\n",
            "010\n",
            "000\n",
            "100\n",
            "100\n",
            "010\n",
            "001\n",
            "100\n",
            "000\n",
            "001\n",
            "000\n",
            "000\n",
            "100\n",
            "000\n",
            "000\n",
            "100\n",
            "100\n",
            "001\n",
            "100\n",
            "000\n",
            "000\n",
            "010\n",
            "000\n",
            "000\n",
            "000\n",
            "000\n",
            "000\n",
            "000\n",
            "000\n",
            "100\n",
            "010\n",
            "010\n",
            "001\n",
            "100\n",
            "000\n",
            "000\n",
            "000\n",
            "001\n",
            "000\n",
            "000\n",
            "100\n",
            "000\n",
            "100\n",
            "000\n",
            "000\n",
            "001\n",
            "000\n",
            "000\n",
            "010\n",
            "010\n",
            "001\n",
            "010\n",
            "001\n",
            "000\n",
            "000\n",
            "001\n",
            "000\n",
            "000\n",
            "100\n",
            "000\n",
            "000\n",
            "000\n",
            "000\n",
            "010\n",
            "001\n",
            "100\n",
            "100\n",
            "000\n",
            "100\n",
            "000\n",
            "100\n",
            "001\n",
            "000\n",
            "001\n",
            "001\n",
            "010\n",
            "010\n",
            "001\n",
            "100\n",
            "010\n",
            "000\n",
            "000\n",
            "000\n",
            "000\n",
            "000\n",
            "010\n",
            "000\n",
            "010\n",
            "000\n",
            "010\n",
            "010\n",
            "010\n",
            "000\n",
            "000\n",
            "100\n",
            "001\n",
            "000\n",
            "100\n",
            "000\n",
            "001\n",
            "000\n",
            "000\n",
            "001\n",
            "010\n",
            "000\n",
            "010\n",
            "000\n",
            "010\n",
            "000\n",
            "010\n",
            "010\n",
            "000\n",
            "000\n",
            "100\n",
            "000\n",
            "000\n",
            "100\n",
            "000\n",
            "001\n",
            "100\n",
            "100\n",
            "100\n",
            "000\n",
            "100\n",
            "000\n",
            "010\n",
            "000\n",
            "000\n",
            "000\n",
            "000\n",
            "100\n",
            "100\n",
            "000\n",
            "010\n",
            "100\n",
            "000\n",
            "000\n",
            "010\n",
            "010\n",
            "000\n",
            "010\n",
            "000\n",
            "000\n",
            "010\n",
            "010\n",
            "001\n",
            "010\n",
            "000\n",
            "100\n",
            "001\n",
            "001\n",
            "010\n",
            "010\n",
            "000\n",
            "001\n",
            "000\n",
            "010\n",
            "100\n",
            "000\n",
            "010\n",
            "000\n",
            "000\n",
            "000\n",
            "000\n",
            "000\n",
            "000\n",
            "010\n",
            "000\n",
            "000\n",
            "001\n",
            "000\n",
            "000\n",
            "000\n",
            "000\n",
            "000\n",
            "100\n",
            "000\n",
            "001\n",
            "010\n",
            "001\n",
            "000\n",
            "100\n",
            "000\n",
            "000\n",
            "100\n",
            "100\n",
            "001\n",
            "100\n",
            "000\n",
            "001\n",
            "000\n",
            "000\n",
            "000\n",
            "000\n",
            "001\n",
            "000\n",
            "000\n",
            "001\n",
            "010\n",
            "000\n",
            "000\n",
            "001\n",
            "001\n",
            "100\n",
            "010\n",
            "000\n",
            "000\n",
            "001\n",
            "000\n",
            "100\n",
            "000\n",
            "100\n",
            "000\n",
            "010\n",
            "000\n",
            "001\n",
            "000\n",
            "000\n",
            "100\n",
            "010\n",
            "000\n",
            "010\n",
            "000\n",
            "001\n",
            "001\n",
            "100\n",
            "010\n",
            "000\n",
            "001\n",
            "010\n",
            "010\n",
            "000\n",
            "010\n",
            "000\n",
            "100\n",
            "000\n",
            "001\n",
            "010\n",
            "010\n",
            "001\n",
            "000\n",
            "001\n",
            "010\n",
            "000\n",
            "010\n",
            "000\n",
            "000\n",
            "100\n",
            "001\n",
            "001\n",
            "001\n",
            "000\n",
            "100\n",
            "000\n",
            "000\n",
            "001\n",
            "000\n",
            "000\n",
            "100\n",
            "010\n",
            "000\n",
            "000\n",
            "001\n",
            "100\n",
            "000\n",
            "010\n",
            "000\n",
            "000\n",
            "000\n",
            "001\n",
            "000\n",
            "000\n",
            "010\n",
            "000\n",
            "000\n",
            "000\n",
            "001\n",
            "000\n",
            "000\n",
            "000\n",
            "000\n",
            "000\n",
            "000\n",
            "100\n",
            "000\n",
            "100\n",
            "010\n",
            "100\n",
            "010\n",
            "010\n",
            "100\n",
            "100\n",
            "000\n",
            "010\n",
            "001\n",
            "000\n",
            "000\n",
            "000\n",
            "000\n",
            "000\n",
            "000\n",
            "010\n",
            "100\n",
            "010\n",
            "010\n",
            "000\n",
            "000\n",
            "010\n",
            "000\n",
            "001\n",
            "000\n",
            "000\n",
            "001\n",
            "000\n",
            "100\n",
            "000\n",
            "010\n",
            "001\n",
            "000\n",
            "000\n",
            "000\n",
            "100\n",
            "010\n",
            "010\n",
            "000\n",
            "010\n",
            "010\n",
            "001\n",
            "000\n",
            "010\n",
            "000\n",
            "001\n",
            "010\n",
            "001\n",
            "100\n",
            "010\n",
            "000\n",
            "000\n",
            "001\n",
            "100\n",
            "000\n",
            "000\n",
            "000\n",
            "000\n",
            "000\n",
            "000\n",
            "001\n",
            "000\n",
            "000\n",
            "000\n",
            "010\n",
            "100\n",
            "100\n",
            "010\n",
            "000\n",
            "001\n",
            "000\n",
            "000\n",
            "100\n",
            "100\n",
            "000\n",
            "100\n"
          ]
        }
      ]
    },
    {
      "cell_type": "markdown",
      "source": [
        "#revealing info to charlie"
      ],
      "metadata": {
        "id": "5UFqESRLC2p-"
      }
    },
    {
      "cell_type": "code",
      "source": [
        "aliceKey = []\n",
        "bobKey = []\n",
        "charlieKey = []\n",
        "\n",
        "for i in range(min(number_Of_w_states, len(aliceResults))):\n",
        "    alice_result = int(aliceResults[i])\n",
        "    charlie_result = int(charlieResults[i])\n",
        "    bob_result = int(bobResults[i])\n",
        "\n",
        "    if alice_result == -1:           #== charlie_result:\n",
        "        bobKey.append(1)        #(bob_result)\n",
        "        #aliceKey.append(alice_result)\n",
        "        aliceKey.append(1)\n",
        "        charlieKey.append(1)\n",
        "    else:\n",
        "        bobKey.append(-1)  #(bob_result)\n",
        "        #aliceKey.append(alice_result)\n",
        "        aliceKey.append(-1)\n",
        "        charlieKey.append(-1)\n",
        "\n",
        "# Length of the raw secret key\n",
        "keyLength = len(aliceKey)\n",
        "\n",
        "# Print the raw secret key lengths\n",
        "print(\"Length of Alice's raw secret key (ka):\", len(aliceKey))\n",
        "print(\"Length of Bob's raw secret key (kb):\", len(bobKey))\n",
        "print(\"Length of Charlie's raw secret key (kc):\", len(charlieKey))"
      ],
      "metadata": {
        "colab": {
          "base_uri": "https://localhost:8080/"
        },
        "id": "z63mHa9EC5SF",
        "outputId": "fa68195c-01ea-4651-b457-ff8b579fa205"
      },
      "execution_count": null,
      "outputs": [
        {
          "output_type": "stream",
          "name": "stdout",
          "text": [
            "Length of Alice's raw secret key (ka): 500\n",
            "Length of Bob's raw secret key (kb): 500\n",
            "Length of Charlie's raw secret key (kc): 500\n"
          ]
        }
      ]
    },
    {
      "cell_type": "code",
      "source": [
        "# Print the keys\n",
        "print(\"Alice's Result:\", aliceKey)\n",
        "print(\"Bob's key (kb):\", bobKey)\n",
        "print(\"Charlie's key  \",charlieKey)"
      ],
      "metadata": {
        "colab": {
          "base_uri": "https://localhost:8080/"
        },
        "id": "pbGnOlM7DHhV",
        "outputId": "086e8e20-147f-4ebe-aa57-7f7b25cc48b1"
      },
      "execution_count": null,
      "outputs": [
        {
          "output_type": "stream",
          "name": "stdout",
          "text": [
            "Alice's Result: [1, 1, 1, 1, -1, 1, 1, 1, 1, 1, 1, -1, 1, 1, -1, 1, 1, -1, 1, -1, -1, 1, 1, 1, 1, 1, 1, -1, 1, -1, -1, 1, 1, 1, 1, 1, 1, 1, 1, 1, 1, 1, 1, 1, 1, 1, 1, 1, 1, 1, 1, 1, 1, 1, -1, 1, 1, 1, 1, -1, 1, -1, -1, 1, 1, 1, 1, 1, 1, 1, 1, 1, 1, 1, 1, 1, -1, -1, 1, 1, 1, -1, 1, -1, 1, 1, 1, -1, 1, 1, 1, 1, 1, -1, 1, 1, 1, 1, 1, 1, 1, -1, 1, 1, 1, 1, -1, -1, -1, 1, 1, -1, 1, 1, 1, 1, 1, -1, 1, 1, 1, -1, 1, 1, 1, 1, 1, 1, 1, 1, 1, 1, 1, -1, 1, 1, 1, 1, -1, 1, 1, -1, -1, 1, 1, -1, 1, 1, 1, 1, -1, 1, 1, -1, -1, 1, -1, 1, 1, 1, 1, 1, 1, 1, 1, 1, 1, -1, 1, 1, 1, -1, 1, 1, 1, 1, 1, 1, -1, 1, -1, 1, 1, 1, 1, 1, 1, 1, 1, 1, 1, 1, 1, 1, 1, 1, -1, 1, 1, 1, 1, 1, 1, -1, -1, 1, -1, 1, -1, 1, 1, 1, 1, 1, 1, 1, -1, 1, 1, 1, 1, 1, 1, 1, 1, 1, 1, 1, 1, 1, 1, 1, -1, 1, 1, -1, 1, 1, 1, 1, 1, 1, 1, 1, 1, 1, 1, 1, 1, 1, 1, -1, 1, 1, -1, 1, 1, -1, -1, -1, 1, -1, 1, 1, 1, 1, 1, 1, -1, -1, 1, 1, -1, 1, 1, 1, 1, 1, 1, 1, 1, 1, 1, 1, 1, 1, -1, 1, 1, 1, 1, 1, 1, 1, 1, -1, 1, 1, 1, 1, 1, 1, 1, 1, 1, 1, 1, 1, 1, 1, 1, 1, 1, -1, 1, 1, 1, 1, 1, -1, 1, 1, -1, -1, 1, -1, 1, 1, 1, 1, 1, 1, 1, 1, 1, 1, 1, 1, 1, 1, 1, -1, 1, 1, 1, 1, 1, -1, 1, -1, 1, 1, 1, 1, 1, 1, -1, 1, 1, 1, 1, 1, 1, -1, 1, 1, 1, 1, 1, 1, 1, 1, -1, 1, 1, 1, 1, 1, 1, 1, 1, 1, 1, 1, 1, -1, 1, 1, 1, 1, -1, 1, 1, 1, 1, 1, -1, 1, 1, 1, 1, -1, 1, 1, 1, 1, 1, 1, 1, 1, 1, 1, 1, 1, 1, 1, 1, 1, 1, 1, 1, -1, 1, -1, 1, -1, 1, 1, -1, -1, 1, 1, 1, 1, 1, 1, 1, 1, 1, 1, -1, 1, 1, 1, 1, 1, 1, 1, 1, 1, 1, 1, -1, 1, 1, 1, 1, 1, 1, -1, 1, 1, 1, 1, 1, 1, 1, 1, 1, 1, 1, 1, -1, 1, 1, 1, 1, -1, 1, 1, 1, 1, 1, 1, 1, 1, 1, 1, 1, -1, -1, 1, 1, 1, 1, 1, -1, -1, 1, -1]\n",
            "Bob's key (kb): [1, 1, 1, 1, -1, 1, 1, 1, 1, 1, 1, -1, 1, 1, -1, 1, 1, -1, 1, -1, -1, 1, 1, 1, 1, 1, 1, -1, 1, -1, -1, 1, 1, 1, 1, 1, 1, 1, 1, 1, 1, 1, 1, 1, 1, 1, 1, 1, 1, 1, 1, 1, 1, 1, -1, 1, 1, 1, 1, -1, 1, -1, -1, 1, 1, 1, 1, 1, 1, 1, 1, 1, 1, 1, 1, 1, -1, -1, 1, 1, 1, -1, 1, -1, 1, 1, 1, -1, 1, 1, 1, 1, 1, -1, 1, 1, 1, 1, 1, 1, 1, -1, 1, 1, 1, 1, -1, -1, -1, 1, 1, -1, 1, 1, 1, 1, 1, -1, 1, 1, 1, -1, 1, 1, 1, 1, 1, 1, 1, 1, 1, 1, 1, -1, 1, 1, 1, 1, -1, 1, 1, -1, -1, 1, 1, -1, 1, 1, 1, 1, -1, 1, 1, -1, -1, 1, -1, 1, 1, 1, 1, 1, 1, 1, 1, 1, 1, -1, 1, 1, 1, -1, 1, 1, 1, 1, 1, 1, -1, 1, -1, 1, 1, 1, 1, 1, 1, 1, 1, 1, 1, 1, 1, 1, 1, 1, -1, 1, 1, 1, 1, 1, 1, -1, -1, 1, -1, 1, -1, 1, 1, 1, 1, 1, 1, 1, -1, 1, 1, 1, 1, 1, 1, 1, 1, 1, 1, 1, 1, 1, 1, 1, -1, 1, 1, -1, 1, 1, 1, 1, 1, 1, 1, 1, 1, 1, 1, 1, 1, 1, 1, -1, 1, 1, -1, 1, 1, -1, -1, -1, 1, -1, 1, 1, 1, 1, 1, 1, -1, -1, 1, 1, -1, 1, 1, 1, 1, 1, 1, 1, 1, 1, 1, 1, 1, 1, -1, 1, 1, 1, 1, 1, 1, 1, 1, -1, 1, 1, 1, 1, 1, 1, 1, 1, 1, 1, 1, 1, 1, 1, 1, 1, 1, -1, 1, 1, 1, 1, 1, -1, 1, 1, -1, -1, 1, -1, 1, 1, 1, 1, 1, 1, 1, 1, 1, 1, 1, 1, 1, 1, 1, -1, 1, 1, 1, 1, 1, -1, 1, -1, 1, 1, 1, 1, 1, 1, -1, 1, 1, 1, 1, 1, 1, -1, 1, 1, 1, 1, 1, 1, 1, 1, -1, 1, 1, 1, 1, 1, 1, 1, 1, 1, 1, 1, 1, -1, 1, 1, 1, 1, -1, 1, 1, 1, 1, 1, -1, 1, 1, 1, 1, -1, 1, 1, 1, 1, 1, 1, 1, 1, 1, 1, 1, 1, 1, 1, 1, 1, 1, 1, 1, -1, 1, -1, 1, -1, 1, 1, -1, -1, 1, 1, 1, 1, 1, 1, 1, 1, 1, 1, -1, 1, 1, 1, 1, 1, 1, 1, 1, 1, 1, 1, -1, 1, 1, 1, 1, 1, 1, -1, 1, 1, 1, 1, 1, 1, 1, 1, 1, 1, 1, 1, -1, 1, 1, 1, 1, -1, 1, 1, 1, 1, 1, 1, 1, 1, 1, 1, 1, -1, -1, 1, 1, 1, 1, 1, -1, -1, 1, -1]\n",
            "Charlie's key   [1, 1, 1, 1, -1, 1, 1, 1, 1, 1, 1, -1, 1, 1, -1, 1, 1, -1, 1, -1, -1, 1, 1, 1, 1, 1, 1, -1, 1, -1, -1, 1, 1, 1, 1, 1, 1, 1, 1, 1, 1, 1, 1, 1, 1, 1, 1, 1, 1, 1, 1, 1, 1, 1, -1, 1, 1, 1, 1, -1, 1, -1, -1, 1, 1, 1, 1, 1, 1, 1, 1, 1, 1, 1, 1, 1, -1, -1, 1, 1, 1, -1, 1, -1, 1, 1, 1, -1, 1, 1, 1, 1, 1, -1, 1, 1, 1, 1, 1, 1, 1, -1, 1, 1, 1, 1, -1, -1, -1, 1, 1, -1, 1, 1, 1, 1, 1, -1, 1, 1, 1, -1, 1, 1, 1, 1, 1, 1, 1, 1, 1, 1, 1, -1, 1, 1, 1, 1, -1, 1, 1, -1, -1, 1, 1, -1, 1, 1, 1, 1, -1, 1, 1, -1, -1, 1, -1, 1, 1, 1, 1, 1, 1, 1, 1, 1, 1, -1, 1, 1, 1, -1, 1, 1, 1, 1, 1, 1, -1, 1, -1, 1, 1, 1, 1, 1, 1, 1, 1, 1, 1, 1, 1, 1, 1, 1, -1, 1, 1, 1, 1, 1, 1, -1, -1, 1, -1, 1, -1, 1, 1, 1, 1, 1, 1, 1, -1, 1, 1, 1, 1, 1, 1, 1, 1, 1, 1, 1, 1, 1, 1, 1, -1, 1, 1, -1, 1, 1, 1, 1, 1, 1, 1, 1, 1, 1, 1, 1, 1, 1, 1, -1, 1, 1, -1, 1, 1, -1, -1, -1, 1, -1, 1, 1, 1, 1, 1, 1, -1, -1, 1, 1, -1, 1, 1, 1, 1, 1, 1, 1, 1, 1, 1, 1, 1, 1, -1, 1, 1, 1, 1, 1, 1, 1, 1, -1, 1, 1, 1, 1, 1, 1, 1, 1, 1, 1, 1, 1, 1, 1, 1, 1, 1, -1, 1, 1, 1, 1, 1, -1, 1, 1, -1, -1, 1, -1, 1, 1, 1, 1, 1, 1, 1, 1, 1, 1, 1, 1, 1, 1, 1, -1, 1, 1, 1, 1, 1, -1, 1, -1, 1, 1, 1, 1, 1, 1, -1, 1, 1, 1, 1, 1, 1, -1, 1, 1, 1, 1, 1, 1, 1, 1, -1, 1, 1, 1, 1, 1, 1, 1, 1, 1, 1, 1, 1, -1, 1, 1, 1, 1, -1, 1, 1, 1, 1, 1, -1, 1, 1, 1, 1, -1, 1, 1, 1, 1, 1, 1, 1, 1, 1, 1, 1, 1, 1, 1, 1, 1, 1, 1, 1, -1, 1, -1, 1, -1, 1, 1, -1, -1, 1, 1, 1, 1, 1, 1, 1, 1, 1, 1, -1, 1, 1, 1, 1, 1, 1, 1, 1, 1, 1, 1, -1, 1, 1, 1, 1, 1, 1, -1, 1, 1, 1, 1, 1, 1, 1, 1, 1, 1, 1, 1, -1, 1, 1, 1, 1, -1, 1, 1, 1, 1, 1, 1, 1, 1, 1, 1, 1, -1, -1, 1, 1, 1, 1, 1, -1, -1, 1, -1]\n"
          ]
        }
      ]
    },
    {
      "cell_type": "markdown",
      "source": [
        "#Encrypt part (Alice)"
      ],
      "metadata": {
        "id": "bZXVxLSIUMhI"
      }
    },
    {
      "cell_type": "code",
      "source": [
        "import hashlib\n",
        "from cryptography.hazmat.primitives.ciphers import Cipher, algorithms, modes\n",
        "from cryptography.hazmat.backends import default_backend\n",
        "\n",
        "\n",
        "\n",
        "# Combine Alice keys\n",
        "combined_key = ''.join(map(str, aliceKey)) + \"bobodenkirk\"\n",
        "\n",
        "# Define the desired length of the shared secret key (in bits)\n",
        "shared_key_length = 128\n",
        "\n",
        "# Apply a cryptographic hash function to generate the shared secret key\n",
        "shared_secret_key = hashlib.sha256(combined_key.encode()).hexdigest()[:shared_key_length//4]\n",
        "\n",
        "# Print the shared secret key\n",
        "print(\"Shared Secret Key:\", shared_secret_key)\n",
        "\n",
        "# Message to be encrypted\n",
        "message_to_encrypt = b\"Helko, this is a secret message!\"  # Convert your message to bytes\n",
        "\n",
        "# Encrypt the message using the shared secret key\n",
        "def encrypt_message(message, key):\n",
        "    cipher = Cipher(algorithms.AES(key.encode()), modes.ECB(), backend=default_backend())\n",
        "    encryptor = cipher.encryptor()\n",
        "    ciphertext = encryptor.update(message) + encryptor.finalize()\n",
        "    return ciphertext\n",
        "\n",
        "# Perform encryption\n",
        "encrypted_message = encrypt_message(message_to_encrypt, shared_secret_key)\n",
        "\n",
        "# Print the encrypted message\n",
        "print(\"Encrypted Message:\", encrypted_message)"
      ],
      "metadata": {
        "colab": {
          "base_uri": "https://localhost:8080/"
        },
        "id": "0ndBYgQUUKmQ",
        "outputId": "8c34af50-3d5f-4811-9884-4140a3458d6e"
      },
      "execution_count": null,
      "outputs": [
        {
          "output_type": "stream",
          "name": "stdout",
          "text": [
            "Shared Secret Key: f05244b1058742c7cde735306b20fe31\n",
            "Encrypted Message: b'\\xd1\\xe2\\x8b\\xdb\\xac\\t4\\xbd\\x93\\xd2{\\xee\\x9a\\x1e:%|\\x1c\\\\\\xce\\x81\\xce\\xfa\\xd0\\xb3\\xe6\\xc1\\x9dU\\xbe\\xde\\x16'\n"
          ]
        }
      ]
    },
    {
      "cell_type": "markdown",
      "source": [
        "#Decrypt Part ( Bob )"
      ],
      "metadata": {
        "id": "1TKE2l3zdHE4"
      }
    },
    {
      "cell_type": "code",
      "source": [
        "#Bob Generating key\n",
        "\n",
        "# Combine bob's key\n",
        "combinedkey = ''.join(map(str, bobKey))  + \"bobodenkirk\"\n",
        "\n",
        "\n",
        "# Define the desired length of the shared secret key (in bits)\n",
        "sharedkeylength = 128\n",
        "\n",
        "# Apply a cryptographic hash function to generate the shared secret key\n",
        "sharedsecretkey = hashlib.sha256(combinedkey.encode()).hexdigest()[:sharedkeylength//4]\n",
        "\n",
        "\n",
        "# Decrypt the message using the shared secret key\n",
        "def decrypt_message(encrypted_message, key):\n",
        "    cipher = Cipher(algorithms.AES(key.encode()), modes.ECB(), backend=default_backend())\n",
        "    decryptor = cipher.decryptor()\n",
        "    decrypted_message = decryptor.update(encrypted_message) + decryptor.finalize()\n",
        "    return decrypted_message\n",
        "\n",
        "# Perform decryption\n",
        "#decrypted_message = decrypt_message(encrypted_message, sharedsecretkey)\n",
        "\n",
        "# Print the decrypted message\n",
        "#print(\"Decrypted Message:\", decrypted_message.decode())\n",
        "\n",
        "# Perform decryption\n",
        "try:\n",
        "    decrypted_message = decrypt_message(encrypted_message, sharedsecretkey)\n",
        "\n",
        "    # Print the decrypted message\n",
        "    print(\"Decrypted Message:\", decrypted_message.decode())\n",
        "\n",
        "except Exception as e:\n",
        "    print(\"Decryption failed\")"
      ],
      "metadata": {
        "colab": {
          "base_uri": "https://localhost:8080/"
        },
        "id": "R2YPWeZWdJBE",
        "outputId": "dd8aac26-abb7-4914-f401-24c49e6b3c13"
      },
      "execution_count": null,
      "outputs": [
        {
          "output_type": "stream",
          "name": "stdout",
          "text": [
            "Decrypted Message: Helko, this is a secret message!\n"
          ]
        }
      ]
    },
    {
      "cell_type": "markdown",
      "source": [
        "Decrypt Part ( Charlie AKA David )"
      ],
      "metadata": {
        "id": "L1BfqbmUdNxa"
      }
    },
    {
      "cell_type": "code",
      "source": [
        "# Combine bob's key\n",
        "combinedkey = ''.join(map(str, charlieKey))\n",
        "\n",
        "# Define the desired length of the shared secret key (in bits)\n",
        "sharedkeylength = 128\n",
        "\n",
        "# Apply a cryptographic hash function to generate the shared secret key\n",
        "sharedsecretkey = hashlib.sha256(combinedkey.encode()).hexdigest()[:sharedkeylength//4]\n",
        "\n",
        "\n",
        "# Decrypt the message using the shared secret key\n",
        "def decrypt_message(encrypted_message, key):\n",
        "    cipher = Cipher(algorithms.AES(key.encode()), modes.ECB(), backend=default_backend())\n",
        "    decryptor = cipher.decryptor()\n",
        "    decrypted_message = decryptor.update(encrypted_message) + decryptor.finalize()\n",
        "    return decrypted_message\n",
        "\n",
        "# Perform decryption\n",
        "#decrypted_message = decrypt_message(encrypted_message, sharedsecretkey)\n",
        "\n",
        "# Print the decrypted message\n",
        "#print(\"Decrypted Message:\", decrypted_message.decode())\n",
        "\n",
        "# Perform decryption\n",
        "try:\n",
        "    decrypted_message = decrypt_message(encrypted_message, sharedsecretkey)\n",
        "\n",
        "    # Print the decrypted message\n",
        "    print(\"Decrypted Message:\", decrypted_message.decode())\n",
        "\n",
        "except Exception as e:\n",
        "    print(\"Decryption failed\")"
      ],
      "metadata": {
        "colab": {
          "base_uri": "https://localhost:8080/"
        },
        "id": "JRGkUfWodVvw",
        "outputId": "5e695f37-6378-4f11-bdae-c5f3d067e452"
      },
      "execution_count": null,
      "outputs": [
        {
          "output_type": "stream",
          "name": "stdout",
          "text": [
            "Decrypted Message: Helko, this is a secret message!\n"
          ]
        }
      ]
    }
  ]
}